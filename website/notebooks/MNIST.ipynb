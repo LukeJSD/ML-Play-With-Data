{
 "cells": [
  {
   "cell_type": "markdown",
   "metadata": {},
   "source": [
    "# Handwritten Digit Prediction\n",
    "\n",
    "This web application can help you run some optical character recognition for handwritten digits. Upload an image below and it'll tell you what that number is!"
   ]
  },
  {
   "cell_type": "code",
   "execution_count": 1,
   "metadata": {},
   "outputs": [],
   "source": [
    "from ipywidgets import FileUpload, Label, Image, Button, Output"
   ]
  },
  {
   "cell_type": "code",
   "execution_count": 2,
   "metadata": {},
   "outputs": [],
   "source": [
    "image_upload = FileUpload(accept='image/*', multiple=False)\n",
    "image_label = Label(value = \"Please upload a single image below.\")\n",
    "image_display = Image()"
   ]
  },
  {
   "cell_type": "code",
   "execution_count": 3,
   "metadata": {},
   "outputs": [
    {
     "data": {
      "application/vnd.jupyter.widget-view+json": {
       "model_id": "b533cbca80454fb39883e4fe7e0c0e39",
       "version_major": 2,
       "version_minor": 0
      },
      "text/plain": [
       "Label(value='Please upload a single image below.')"
      ]
     },
     "metadata": {},
     "output_type": "display_data"
    },
    {
     "data": {
      "application/vnd.jupyter.widget-view+json": {
       "model_id": "4c4aaa90cdc04e48aa851e4b9bd13e41",
       "version_major": 2,
       "version_minor": 0
      },
      "text/plain": [
       "FileUpload(value={}, accept='image/*', description='Upload')"
      ]
     },
     "metadata": {},
     "output_type": "display_data"
    },
    {
     "data": {
      "application/vnd.jupyter.widget-view+json": {
       "model_id": "ec99878cf28047b9b36284e5d590a64a",
       "version_major": 2,
       "version_minor": 0
      },
      "text/plain": [
       "Image(value=b'')"
      ]
     },
     "metadata": {},
     "output_type": "display_data"
    }
   ],
   "source": [
    "display(image_label, image_upload, image_display)"
   ]
  },
  {
   "cell_type": "code",
   "execution_count": 4,
   "metadata": {},
   "outputs": [],
   "source": [
    "def on_upload_observer(change):\n",
    "    [image] = image_upload.value\n",
    "    image_display.value = image_upload.value[image][\"content\"]\n",
    "\n",
    "image_upload.observe(on_upload_observer, names='_counter')\n"
   ]
  },
  {
   "cell_type": "code",
   "execution_count": 5,
   "metadata": {},
   "outputs": [],
   "source": [
    "from tensorflow.keras.models import load_model\n",
    "import cv2\n",
    "import numpy as np"
   ]
  },
  {
   "cell_type": "code",
   "execution_count": 6,
   "metadata": {},
   "outputs": [],
   "source": [
    "model_file = '../models/keras-mnist.h5'\n",
    "mnist_model = load_model(model_file)"
   ]
  },
  {
   "cell_type": "code",
   "execution_count": 7,
   "metadata": {},
   "outputs": [],
   "source": [
    "predict_button = Button(description=\"Predict!\")\n",
    "result = Output()"
   ]
  },
  {
   "cell_type": "code",
   "execution_count": 8,
   "metadata": {},
   "outputs": [],
   "source": [
    "def predict(button_info):\n",
    "    try:\n",
    "        [image] = image_upload.value\n",
    "        image_string = image_upload.value[image][\"content\"]\n",
    "        arr = cv2.imdecode(np.fromstring(image_string, np.uint8), cv2.IMREAD_UNCHANGED)\n",
    "        my_image = arr / 255.0\n",
    "        my_images = my_image.reshape(1, 28, 28, 1)\n",
    "        pred = mnist_model.predict(my_images)\n",
    "        number = int(np.argmax(pred))\n",
    "\n",
    "        with result:\n",
    "            print(f\"The image you uploaded is a {number}.\")\n",
    "    except Exception as e:\n",
    "        with result:\n",
    "            print(e)"
   ]
  },
  {
   "cell_type": "code",
   "execution_count": 9,
   "metadata": {},
   "outputs": [],
   "source": [
    "predict_button.on_click(predict)"
   ]
  },
  {
   "cell_type": "code",
   "execution_count": 10,
   "metadata": {},
   "outputs": [
    {
     "data": {
      "application/vnd.jupyter.widget-view+json": {
       "model_id": "f913a6cfc7b44ec0822090e91b5ae784",
       "version_major": 2,
       "version_minor": 0
      },
      "text/plain": [
       "Button(description='Predict!', style=ButtonStyle())"
      ]
     },
     "metadata": {},
     "output_type": "display_data"
    },
    {
     "data": {
      "application/vnd.jupyter.widget-view+json": {
       "model_id": "6cb7c38de5374a6fb97bb1cacc6e7b0d",
       "version_major": 2,
       "version_minor": 0
      },
      "text/plain": [
       "Output()"
      ]
     },
     "metadata": {},
     "output_type": "display_data"
    },
    {
     "name": "stderr",
     "output_type": "stream",
     "text": [
      "<ipython-input-8-c66716de0b3e>:5: DeprecationWarning: The binary mode of fromstring is deprecated, as it behaves surprisingly on unicode inputs. Use frombuffer instead\n",
      "  arr = cv2.imdecode(np.fromstring(image_string, np.uint8), cv2.IMREAD_UNCHANGED)\n"
     ]
    }
   ],
   "source": [
    "display(predict_button, result)"
   ]
  },
  {
   "cell_type": "code",
   "execution_count": null,
   "metadata": {},
   "outputs": [],
   "source": []
  }
 ],
 "metadata": {
  "kernelspec": {
   "display_name": "ml-code-samples",
   "language": "python",
   "name": "ml-code-samples"
  },
  "language_info": {
   "codemirror_mode": {
    "name": "ipython",
    "version": 3
   },
   "file_extension": ".py",
   "mimetype": "text/x-python",
   "name": "python",
   "nbconvert_exporter": "python",
   "pygments_lexer": "ipython3",
   "version": "3.8.5"
  }
 },
 "nbformat": 4,
 "nbformat_minor": 4
}
