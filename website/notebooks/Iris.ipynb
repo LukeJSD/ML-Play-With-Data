{
 "cells": [
  {
   "cell_type": "markdown",
   "metadata": {},
   "source": [
    "# IRIS Species Predictor\n",
    "\n",
    "This application can help you predict the species of flowers given their different observations. Enter the values below to determine the species!\n",
    "\n"
   ]
  },
  {
   "cell_type": "code",
   "execution_count": 1,
   "metadata": {},
   "outputs": [],
   "source": [
    "from ipywidgets import Text, Button, Layout, Output"
   ]
  },
  {
   "cell_type": "code",
   "execution_count": 2,
   "metadata": {},
   "outputs": [],
   "source": [
    "sepal_length_input = Text(\n",
    "    placeholder='Generally between 4.3 and 7.9 cm',\n",
    "    description='Sepal Length:',\n",
    "    disabled=False,\n",
    "    layout=Layout(width=\"350px\"),\n",
    "    style={'description_width': '100px'}\n",
    ")\n",
    "\n",
    "sepal_width_input = Text(\n",
    "    placeholder='Generally between 2.0 and 4.4 cm',\n",
    "    description='Sepal width:',\n",
    "    disabled=False,\n",
    "    layout=Layout(width=\"350px\"),\n",
    "    style={'description_width': '100px'}\n",
    ")\n",
    "\n",
    "petal_length_input = Text(\n",
    "    placeholder='Generally between 1.0 and 6.9 cm',\n",
    "    description='Petal Length:',\n",
    "    disabled=False,\n",
    "    layout=Layout(width=\"350px\"),\n",
    "    style={'description_width': '100px'}\n",
    ")\n",
    "\n",
    "petal_width_input = Text(\n",
    "    placeholder='Generally between 0.1 and 2.5 cm',\n",
    "    description='Petal width:',\n",
    "    disabled=False,\n",
    "    layout=Layout(width=\"350px\"),\n",
    "    style={'description_width': '100px'}\n",
    ")"
   ]
  },
  {
   "cell_type": "code",
   "execution_count": 3,
   "metadata": {},
   "outputs": [
    {
     "data": {
      "application/vnd.jupyter.widget-view+json": {
       "model_id": "48f074a09b2e49a4ba1964dbc5879400",
       "version_major": 2,
       "version_minor": 0
      },
      "text/plain": [
       "Text(value='', description='Sepal Length:', layout=Layout(width='350px'), placeholder='Generally between 4.3 a…"
      ]
     },
     "metadata": {},
     "output_type": "display_data"
    },
    {
     "data": {
      "application/vnd.jupyter.widget-view+json": {
       "model_id": "0a82c1b887d046f2843eb05abe365fea",
       "version_major": 2,
       "version_minor": 0
      },
      "text/plain": [
       "Text(value='', description='Sepal width:', layout=Layout(width='350px'), placeholder='Generally between 2.0 an…"
      ]
     },
     "metadata": {},
     "output_type": "display_data"
    },
    {
     "data": {
      "application/vnd.jupyter.widget-view+json": {
       "model_id": "a0899469bf9348e8a4232f6b768e2d21",
       "version_major": 2,
       "version_minor": 0
      },
      "text/plain": [
       "Text(value='', description='Petal Length:', layout=Layout(width='350px'), placeholder='Generally between 1.0 a…"
      ]
     },
     "metadata": {},
     "output_type": "display_data"
    },
    {
     "data": {
      "application/vnd.jupyter.widget-view+json": {
       "model_id": "44d7d7ec07ef4fde9e8266c10db91640",
       "version_major": 2,
       "version_minor": 0
      },
      "text/plain": [
       "Text(value='', description='Petal width:', layout=Layout(width='350px'), placeholder='Generally between 0.1 an…"
      ]
     },
     "metadata": {},
     "output_type": "display_data"
    }
   ],
   "source": [
    "display(sepal_length_input, sepal_width_input, petal_length_input, petal_width_input)"
   ]
  },
  {
   "cell_type": "code",
   "execution_count": 4,
   "metadata": {},
   "outputs": [],
   "source": [
    "predict_button = Button(description=\"Predict!\")\n",
    "result = Output()"
   ]
  },
  {
   "cell_type": "code",
   "execution_count": 5,
   "metadata": {},
   "outputs": [],
   "source": [
    "import joblib\n",
    "import numpy as np\n"
   ]
  },
  {
   "cell_type": "code",
   "execution_count": 6,
   "metadata": {},
   "outputs": [],
   "source": [
    "model_file = '../models/sk-model.joblib'\n",
    "iris_model = joblib.load(model_file)\n",
    "\n",
    "def predict(button_info):\n",
    "    try:\n",
    "        sepal_length = float(sepal_length_input.value)\n",
    "        sepal_width = float(sepal_width_input.value)\n",
    "\n",
    "        petal_length = float(petal_length_input.value)\n",
    "        petal_width = float(petal_width_input.value)\n",
    "\n",
    "        test_sample = np.array([sepal_length, sepal_width, petal_length, petal_width])\n",
    "\n",
    "        pred = iris_model.predict([test_sample])\n",
    "        classes = [\"Setosa\",\"Versicolour\",\"Virginica\"]\n",
    "        species = classes[pred[0]]\n",
    "\n",
    "        with result:\n",
    "            print(f\"The values you entered are for a {species}.\")\n",
    "    except Exception as e:\n",
    "        with result:\n",
    "            print(e)\n"
   ]
  },
  {
   "cell_type": "code",
   "execution_count": 7,
   "metadata": {},
   "outputs": [],
   "source": [
    "predict_button.on_click(predict)"
   ]
  },
  {
   "cell_type": "code",
   "execution_count": 8,
   "metadata": {},
   "outputs": [
    {
     "data": {
      "application/vnd.jupyter.widget-view+json": {
       "model_id": "986e26a8ab894adbb5eef774e37d7a06",
       "version_major": 2,
       "version_minor": 0
      },
      "text/plain": [
       "Button(description='Predict!', style=ButtonStyle())"
      ]
     },
     "metadata": {},
     "output_type": "display_data"
    },
    {
     "data": {
      "application/vnd.jupyter.widget-view+json": {
       "model_id": "10ca45bc29764707ac9799dd810e496b",
       "version_major": 2,
       "version_minor": 0
      },
      "text/plain": [
       "Output()"
      ]
     },
     "metadata": {},
     "output_type": "display_data"
    }
   ],
   "source": [
    "display(predict_button, result)"
   ]
  },
  {
   "cell_type": "code",
   "execution_count": null,
   "metadata": {},
   "outputs": [],
   "source": []
  },
  {
   "cell_type": "code",
   "execution_count": null,
   "metadata": {},
   "outputs": [],
   "source": []
  }
 ],
 "metadata": {
  "kernelspec": {
   "display_name": "Python 3",
   "language": "python",
   "name": "python3"
  },
  "language_info": {
   "codemirror_mode": {
    "name": "ipython",
    "version": 3
   },
   "file_extension": ".py",
   "mimetype": "text/x-python",
   "name": "python",
   "nbconvert_exporter": "python",
   "pygments_lexer": "ipython3",
   "version": "3.7.1"
  }
 },
 "nbformat": 4,
 "nbformat_minor": 4
}
