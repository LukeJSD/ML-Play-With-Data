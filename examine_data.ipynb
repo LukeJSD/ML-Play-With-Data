{
 "cells": [
  {
   "cell_type": "markdown",
   "metadata": {},
   "source": [
    "# Notes\n",
    "- If meet id inclues a `/`, it is probably wrong.  Still don't know why, but we won't use Meet_ID anyways.\n",
    "- Kyle has TWO athlete id's, 7109122 and 6459186.  Could be a problem."
   ]
  },
  {
   "cell_type": "markdown",
   "metadata": {},
   "source": [
    "# Prepare Data"
   ]
  },
  {
   "cell_type": "code",
   "execution_count": 1,
   "metadata": {},
   "outputs": [],
   "source": [
    "import pandas as pd\n",
    "import numpy as np\n",
    "import utils\n",
    "import matplotlib.pyplot as plt\n",
    "\n",
    "import warnings\n",
    "warnings.simplefilter('ignore')\n",
    "\n",
    "pd.set_option('display.max_rows', 500)"
   ]
  },
  {
   "cell_type": "code",
   "execution_count": 2,
   "metadata": {
    "scrolled": true
   },
   "outputs": [],
   "source": [
    "mdf = pd.read_csv('M_athlete_results.csv')\n",
    "fdf = pd.read_csv('F_athlete_results.csv')"
   ]
  },
  {
   "cell_type": "code",
   "execution_count": 3,
   "metadata": {},
   "outputs": [],
   "source": [
    "# String marks to float times in seconds\n",
    "mdf['Time'] = [utils.Time(m) if (e in utils.event_classification()['Track'] and utils.ismark(m)) else None for e, m in zip(mdf['Event'], mdf['Mark'])]\n",
    "fdf['Time'] = [utils.Time(m) if (e in utils.event_classification()['Track'] and utils.ismark(m)) else None for e, m in zip(fdf['Event'], fdf['Mark'])]"
   ]
  },
  {
   "cell_type": "code",
   "execution_count": 4,
   "metadata": {},
   "outputs": [],
   "source": [
    "# String events to float distance in meters\n",
    "mdf['Distance'] = [utils.string_to_distance(e) if e in utils.event_classification()['Track'] else None for e in mdf['Event']]\n",
    "fdf['Distance'] = [utils.string_to_distance(e) if e in utils.event_classification()['Track'] else None for e in fdf['Event']]"
   ]
  },
  {
   "cell_type": "code",
   "execution_count": 5,
   "metadata": {},
   "outputs": [],
   "source": [
    "elevations = {\n",
    "    'Western Colorado': 7700,\n",
    "    'University of Colorado': 5300,\n",
    "    'Colorado Mesa': 4500,\n",
    "    'UCCS': 6000,\n",
    "    'Colorado College': 6000,\n",
    "    'Colorado State': 5000,\n",
    "    'Colorado Invitational': 5300,\n",
    "    'NAU': 6900,\n",
    "    'BYU': 4600,\n",
    "    'SD Mines': 3200,\n",
    "    'New Mexico': 5300,\n",
    "    'Wyoming': 6000,\n",
    "    'Adams State': 7500,\n",
    "    'TWO': {\n",
    "        'Mines': ['SD ', 'South Dakota', 5600]\n",
    "    }\n",
    "}\n",
    "\n",
    "mdf['Elevation3k'] = [0]*len(mdf)\n",
    "for m, e in elevations.items():\n",
    "    if m == 'TWO':\n",
    "        for m2, e2 in e.items():\n",
    "            mdf['Elevation3k'][(mdf['Meet_Name'].str.contains(m2)) & ~((mdf['Meet_Name'].str.contains(e2[0]))) & ~((mdf['Meet_Name'].str.contains(e2[1])))] = e2[2]-3000\n",
    "    else:\n",
    "        mdf['Elevation3k'][mdf['Meet_Name'].str.contains(m)] = e-3000\n",
    "        \n",
    "fdf['Elevation3k'] = [0]*len(fdf)\n",
    "for m, e in elevations.items():\n",
    "    if m == 'TWO':\n",
    "        for m2, e2 in e.items():\n",
    "            fdf['Elevation3k'][(fdf['Meet_Name'].str.contains(m2)) & ~((fdf['Meet_Name'].str.contains(e2[0]))) & ~((fdf['Meet_Name'].str.contains(e2[1])))] = e2[2]-3000\n",
    "    else:\n",
    "        mdf['Elevation3k'][fdf['Meet_Name'].str.contains(m)] = e-3000"
   ]
  },
  {
   "cell_type": "code",
   "execution_count": 6,
   "metadata": {},
   "outputs": [],
   "source": [
    "mdf = utils.get_stat_col(mdf, 'Time')"
   ]
  },
  {
   "cell_type": "code",
   "execution_count": 7,
   "metadata": {},
   "outputs": [],
   "source": [
    "xcnats_m = mdf.loc[mdf['Meet_Name'] == 'NCAA Division II Cross Country Championships'].sort_values(['Place', 'Mark'])\n",
    "xcnats_f = fdf.loc[fdf['Meet_Name'] == 'NCAA Division II Cross Country Championships'].sort_values(['Place', 'Mark'])"
   ]
  },
  {
   "cell_type": "code",
   "execution_count": 8,
   "metadata": {},
   "outputs": [],
   "source": [
    "def prior_to_xc(gender, allresults=False, nats=True):\n",
    "    if gender == 'M':\n",
    "        DF = mdf\n",
    "        xcnats = xcnats_m\n",
    "    elif gender == 'F':\n",
    "        DF = fdf\n",
    "        xcnats = xcnats_f\n",
    "    # PRs before a specified year\n",
    "    xcnats_dic = {}\n",
    "    for year in range(2012, 2020):\n",
    "        print(year, end='...')\n",
    "        df1 = DF.loc[((DF['Year'] <= year) & (DF['Season'] != 'Cross Country') & (DF['Distance'] > 0)) | ((DF['Year'] < year) & (DF['Season'] == 'Cross Country'))]\n",
    "        for s in ['Outdoor', 'Indoor']:\n",
    "            records = utils.get_records()[s]\n",
    "            for e, m in records.items():\n",
    "                df1 = df1.loc[(df1['Season'] != s) | (df1['Event'] != e) | ((df1['Season'] == s) & (df1['Event'] == e) & (df1['Time'] >= utils.Time(m)))]\n",
    "        df2 = xcnats.loc[xcnats['Year'] == year]\n",
    "        if allresults:\n",
    "            df3 = df1    # all results rather than just PRs\n",
    "        else:\n",
    "            df3 = df1.sort_values('Time').drop_duplicates(subset=['Athlete ID', 'Distance', 'Season'])    # Season specific PRs?\n",
    "        if nats:\n",
    "            df = df3.join(df2.set_index('Athlete ID'), on='Athlete ID', rsuffix='NATS')\n",
    "        else:\n",
    "            df = df3\n",
    "            df = df[\n",
    "                [\n",
    "                    'Name',\n",
    "                    'Athlete ID',\n",
    "                    'Academic_Year',\n",
    "                    'School', \n",
    "                    'Conference',\n",
    "                    'Meet_Name',\n",
    "                    'Year',\n",
    "                    'Season',\n",
    "                    'Place',\n",
    "                    'Time',\n",
    "                    'Distance',\n",
    "                    'YearNATS',\n",
    "                    'DistanceNATS',\n",
    "                    'PlaceNATS',\n",
    "                    'TimeNATS'\n",
    "                ]\n",
    "            ]\n",
    "            df = df.dropna(subset=['DistanceNATS'])\n",
    "        xcnats_dic[year] = df\n",
    "    print('Done')\n",
    "    return xcnats_dic"
   ]
  },
  {
   "cell_type": "code",
   "execution_count": 9,
   "metadata": {},
   "outputs": [
    {
     "name": "stdout",
     "output_type": "stream",
     "text": [
      "2012...2013...2014...2015...2016...2017...2018...2019...Done\n"
     ]
    }
   ],
   "source": [
    "resvar = False\n",
    "natsvar = True\n",
    "xcnats_dic_m = prior_to_xc('M', resvar, natsvar)"
   ]
  },
  {
   "cell_type": "code",
   "execution_count": 10,
   "metadata": {},
   "outputs": [],
   "source": [
    "if resvar:\n",
    "    assert len(mdf.loc[(mdf['Name']=='KALE ADAMS') & (mdf['Season']=='Cross Country') & (mdf['Year'] < 2019)]) == len(xcnats_dic_m[2019].loc[(xcnats_dic_m[2019]['Name']=='KALE ADAMS') & (xcnats_dic_m[2019]['Season']=='Cross Country')])"
   ]
  },
  {
   "cell_type": "code",
   "execution_count": 11,
   "metadata": {},
   "outputs": [],
   "source": [
    "for year, df in xcnats_dic_m.items():\n",
    "    champs = mdf.loc[(mdf['Prelim/Final']!='P') & (mdf['Meet_Name'].str.contains('Championship')) & (mdf['Place'] <= 3) & (((mdf['Year'] < year) & (mdf['Season'] == 'Cross Country')) | ((mdf['Year'] <= year) & (mdf['Season'] != 'Cross Country')))].groupby('Athlete ID').count()\n",
    "    champs['Championship Medals'] = champs['Name']\n",
    "    champs = champs['Championship Medals']\n",
    "    df = df.join(champs, on='Athlete ID')\n",
    "    df['Championship Medals'].fillna(0, inplace=True)\n",
    "    xcnats_dic_m[year] = df"
   ]
  },
  {
   "cell_type": "code",
   "execution_count": 12,
   "metadata": {},
   "outputs": [],
   "source": [
    "for year, df in xcnats_dic_m.items():\n",
    "    champs = mdf.loc[(mdf['Prelim/Final']!='P') & ((mdf['Meet_Name'].str.contains('NCAA Division II')) & ~(mdf['Meet_Name'].str.contains('Region'))) & (((mdf['Year'] < year) & (mdf['Season'] == 'Cross Country') & (mdf['Place'] <= 40)) | ((mdf['Year'] <= year) & (mdf['Season'] != 'Cross Country') & (mdf['Place'] <= 8)))].groupby('Athlete ID').count()\n",
    "    champs['All Americans'] = champs['Name']\n",
    "    champs = champs['All Americans']\n",
    "    df = df.join(champs, on='Athlete ID')\n",
    "    df['All Americans'].fillna(0, inplace=True)\n",
    "    xcnats_dic_m[year] = df"
   ]
  },
  {
   "cell_type": "code",
   "execution_count": 13,
   "metadata": {},
   "outputs": [],
   "source": [
    "DF = pd.DataFrame()\n",
    "for y, d in xcnats_dic_m.items():\n",
    "    DF = pd.concat([DF, d])\n",
    "DF['Time_since_PR'] = DF['YearNATS']-DF['Year']\n",
    "DF, seasondic = utils.make_dummy_col(DF, 'Season')\n",
    "DF = DF.loc[DF['Distance'] > 0]"
   ]
  },
  {
   "cell_type": "code",
   "execution_count": 14,
   "metadata": {},
   "outputs": [],
   "source": [
    "inv_map = {v: k for k, v in seasondic.items()}\n",
    "year = 2020\n",
    "xc = inv_map['Cross Country']"
   ]
  },
  {
   "cell_type": "code",
   "execution_count": 15,
   "metadata": {},
   "outputs": [],
   "source": [
    "mdf, _ = utils.make_dummy_col(mdf, 'Season', dic=seasondic)"
   ]
  },
  {
   "cell_type": "code",
   "execution_count": 16,
   "metadata": {},
   "outputs": [
    {
     "data": {
      "text/plain": [
       "\"mdf['Distance'] /= 1000.\\nDF['Distance'] /= 1000.\""
      ]
     },
     "execution_count": 16,
     "metadata": {},
     "output_type": "execute_result"
    }
   ],
   "source": [
    "'''mdf['Distance'] /= 1000.\n",
    "DF['Distance'] /= 1000.'''"
   ]
  },
  {
   "cell_type": "code",
   "execution_count": 17,
   "metadata": {
    "scrolled": true
   },
   "outputs": [
    {
     "name": "stdout",
     "output_type": "stream",
     "text": [
      "mdf (66736, 21)\n",
      "2012 (1401, 43)\n",
      "2013 (3075, 43)\n",
      "2014 (4514, 43)\n",
      "2015 (6209, 43)\n",
      "2016 (7832, 43)\n",
      "2017 (9422, 43)\n",
      "2018 (11318, 43)\n",
      "2019 (13410, 43)\n",
      "DF (57181, 44)\n"
     ]
    },
    {
     "data": {
      "text/plain": [
       "{0: 'Outdoor', 1: 'Indoor', 2: 'Cross Country', 3: 'Out of Season'}"
      ]
     },
     "execution_count": 17,
     "metadata": {},
     "output_type": "execute_result"
    }
   ],
   "source": [
    "print('mdf', mdf.shape)\n",
    "for k, v in xcnats_dic_m.items():\n",
    "    print(k, v.shape)\n",
    "print('DF', DF.shape)\n",
    "seasondic"
   ]
  },
  {
   "cell_type": "markdown",
   "metadata": {},
   "source": [
    "# Modeling"
   ]
  },
  {
   "cell_type": "code",
   "execution_count": 18,
   "metadata": {},
   "outputs": [],
   "source": [
    "del xcnats_m\n",
    "del xcnats_f"
   ]
  },
  {
   "cell_type": "code",
   "execution_count": 19,
   "metadata": {},
   "outputs": [],
   "source": [
    "import tensorflow as tf\n",
    "import tensorflow.keras as keras\n",
    "import numpy as np\n",
    "from tensorflow.keras import Sequential\n",
    "from tensorflow.keras.layers import Dense, Dropout\n",
    "from sklearn.neighbors import KNeighborsClassifier\n",
    "from sklearn.metrics import classification_report, confusion_matrix, f1_score\n",
    "import sklearn as sk\n",
    "import matplotlib.pyplot as plt\n",
    "from sklearn.model_selection import train_test_split\n",
    "from sklearn.decomposition import PCA, KernelPCA"
   ]
  },
  {
   "cell_type": "code",
   "execution_count": 20,
   "metadata": {},
   "outputs": [],
   "source": [
    "def get_knn_training_scores(ks, model_features, model_labels):\n",
    "    \"\"\"Determine the f1-score of k values for kNN on a given data set\n",
    "    Args:\n",
    "        ks (int iterable): iterable of all the k values to apply\n",
    "        model_features (iterable): the features from the model set to train on\n",
    "        model_labels (iterable): the labels from the model set to train on\n",
    "        \n",
    "    Returns:\n",
    "        dictionary: key is the k value and value is the weighted f1_score on the training set\n",
    "    \"\"\"\n",
    "    # YOUR CODE HERE\n",
    "    dictionary = {}\n",
    "    for k in ks:\n",
    "      knn = KNeighborsClassifier(n_neighbors=k)\n",
    "      knn.fit(model_features, model_labels)\n",
    "      validationPredictions = knn.predict(model_features)\n",
    "      f1 = f1_score(model_labels, validationPredictions, average=\"weighted\")\n",
    "      dictionary[k] = f1\n",
    "    return dictionary\n",
    "\n",
    "def get_knn_validation_scores(ks, model_features, model_labels, validation_features, validation_labels):\n",
    "    \"\"\"Train a model on a dataset then return the F-1 score on another set\n",
    "    Args:\n",
    "        ks (int iterable): iterable of all the k values to apply\n",
    "        model_features (iterable): the features from the model set to train on\n",
    "        model_labels (iterable): the labels from the model set to train on\n",
    "        validation_features (iterable): the features from the validation set to test on\n",
    "        validation_labels (iterable): the labels from the validation set to test on\n",
    "        \n",
    "    Returns:\n",
    "        dictionary: key is the k value and value is the weighted f1_score on the validation set\n",
    "    \"\"\"\n",
    "    # YOUR CODE HERE\n",
    "    dictionary = {}\n",
    "    for k in ks:\n",
    "      knn = KNeighborsClassifier(n_neighbors=k)\n",
    "      knn.fit(model_features, model_labels)\n",
    "      validationPredictions = knn.predict(validation_features)\n",
    "      f1 = f1_score(validation_labels, validationPredictions, average=\"weighted\")\n",
    "      dictionary[k] = f1\n",
    "    return dictionary"
   ]
  },
  {
   "cell_type": "code",
   "execution_count": 21,
   "metadata": {},
   "outputs": [],
   "source": [
    "allamerican = True\n",
    "target = 'PlaceNATS'\n",
    "#target = 'All Americans'\n",
    "aa = True\n",
    "if aa:\n",
    "    features = ['Distance', 'Season', 'Time', 'Time_since_PR', 'Championship Medals', 'All Americans', 'TimeAVG', 'TimeSTD']\n",
    "else:\n",
    "    features = ['Distance', 'Season', 'Time', 'Time_since_PR', 'Championship Medals', 'TimeAVG', 'TimeSTD']"
   ]
  },
  {
   "cell_type": "code",
   "execution_count": 22,
   "metadata": {},
   "outputs": [],
   "source": [
    "features.append('Elevation3k')"
   ]
  },
  {
   "cell_type": "code",
   "execution_count": 23,
   "metadata": {},
   "outputs": [],
   "source": [
    "X_train, X_test, y_train, y_test = utils.get_train_test(DF, target, features)"
   ]
  },
  {
   "cell_type": "code",
   "execution_count": 24,
   "metadata": {},
   "outputs": [],
   "source": [
    "if target == 'PlaceNATS':\n",
    "    if allamerican:\n",
    "        y_train[y_train<=40] = 1\n",
    "        y_train[y_train>40] = 0\n",
    "        y_test[y_test<=40] = 1\n",
    "        y_test[y_test>40] = 0\n",
    "    else:\n",
    "        categories = 2\n",
    "        width = 100\n",
    "        for i in range(1, categories+1):\n",
    "            y_train[(y_train<=i*width) & (y_train>(i-1)*width)] = float(i)\n",
    "        y_train[y_train>categories*width] = float(categories+1)\n",
    "        for i in range(1, categories+1):\n",
    "            y_test[(y_test<=i*width) & (y_test>(i-1)*width)] = float(i)\n",
    "        y_test[y_test>categories*width] = float(categories+1)\n",
    "    y_test"
   ]
  },
  {
   "cell_type": "code",
   "execution_count": null,
   "metadata": {},
   "outputs": [],
   "source": []
  },
  {
   "cell_type": "code",
   "execution_count": null,
   "metadata": {},
   "outputs": [],
   "source": [
    "pca_tf = PCA(n_components=2)\n",
    "X_train_pca = pca_tf.fit_transform(X_train)\n",
    "X_test_pca = pca_tf.transform(X_test)"
   ]
  },
  {
   "cell_type": "code",
   "execution_count": null,
   "metadata": {},
   "outputs": [],
   "source": [
    "c0 = plt.scatter(X_train_pca[:,0].reshape(-1,1)[y_train == 0], X_train_pca[:,1].reshape(-1,1)[y_train == 0], color=\"r\")\n",
    "c1 = plt.scatter(X_train_pca[:,0].reshape(-1,1)[y_train == 1], X_train_pca[:,1].reshape(-1,1)[y_train == 1], color=\"g\")\n",
    "plt.legend((c0, c1), (\"Class 0\", \"Class 1\"))\n",
    "plt.show()"
   ]
  },
  {
   "cell_type": "code",
   "execution_count": 27,
   "metadata": {},
   "outputs": [],
   "source": [
    "X_model, X_valid, y_model, y_valid = train_test_split(X_train_pca, y_train, random_state=0, test_size=0.2)"
   ]
  },
  {
   "cell_type": "code",
   "execution_count": 26,
   "metadata": {},
   "outputs": [],
   "source": [
    "X_model, X_valid, y_model, y_valid = train_test_split(X_train, y_train, random_state=0, test_size=0.2)"
   ]
  },
  {
   "cell_type": "code",
   "execution_count": 28,
   "metadata": {},
   "outputs": [],
   "source": [
    "ksToTest = [1,3,5,7,10,20,50,100]\n",
    "training_scores = get_knn_training_scores(ksToTest, X_model, y_model)\n",
    "validation_scores = get_knn_validation_scores(ksToTest, X_model, y_model, X_valid, y_valid)"
   ]
  },
  {
   "cell_type": "code",
   "execution_count": 29,
   "metadata": {},
   "outputs": [
    {
     "data": {
      "image/png": "[encoded data removed]",
      "text/plain": [
       "<Figure size 432x288 with 1 Axes>"
      ]
     },
     "metadata": {
      "needs_background": "light"
     },
     "output_type": "display_data"
    }
   ],
   "source": [
    "pd.Series(training_scores, name=\"Training\").plot(kind=\"line\")\n",
    "pd.Series(validation_scores, name=\"Validation\").plot(kind=\"line\", label=\"Validation\")\n",
    "plt.legend()\n",
    "bestk = 7\n",
    "plt.plot([bestk, bestk], [0.77, 0.9])\n",
    "plt.xlabel(\"k\")\n",
    "plt.ylabel(\"F1-score\")\n",
    "plt.show()"
   ]
  },
  {
   "cell_type": "code",
   "execution_count": 30,
   "metadata": {},
   "outputs": [],
   "source": [
    "ksToTest = list(range(1, 26, 2))\n",
    "training_scores = get_knn_training_scores(ksToTest, X_model, y_model)\n",
    "validation_scores = get_knn_validation_scores(ksToTest, X_model, y_model, X_valid, y_valid)"
   ]
  },
  {
   "cell_type": "code",
   "execution_count": 31,
   "metadata": {},
   "outputs": [
    {
     "data": {
      "image/png": "[encoded data removed]",
      "text/plain": [
       "<Figure size 432x288 with 1 Axes>"
      ]
     },
     "metadata": {
      "needs_background": "light"
     },
     "output_type": "display_data"
    }
   ],
   "source": [
    "pd.Series(training_scores, name=\"Training\").plot(kind=\"line\")\n",
    "pd.Series(validation_scores, name=\"Validation\").plot(kind=\"line\", label=\"Validation\")\n",
    "plt.legend()\n",
    "plt.xlabel(\"k\")\n",
    "plt.ylabel(\"F1-score\")\n",
    "bestk = 7\n",
    "plt.plot([bestk, bestk], [0.77, 0.9])\n",
    "plt.show()"
   ]
  },
  {
   "cell_type": "code",
   "execution_count": 32,
   "metadata": {},
   "outputs": [
    {
     "data": {
      "text/plain": [
       "7"
      ]
     },
     "execution_count": 32,
     "metadata": {},
     "output_type": "execute_result"
    }
   ],
   "source": [
    "bestk"
   ]
  },
  {
   "cell_type": "code",
   "execution_count": 35,
   "metadata": {},
   "outputs": [],
   "source": [
    "clf = KNeighborsClassifier(bestk)\n",
    "clf.fit(X_train, y_train)\n",
    "testPredictions = clf.predict(X_test)\n",
    "# 0.8289068836677437, no pca"
   ]
  },
  {
   "cell_type": "code",
   "execution_count": 34,
   "metadata": {},
   "outputs": [
    {
     "ename": "NameError",
     "evalue": "name 'X_train_pca' is not defined",
     "output_type": "error",
     "traceback": [
      "\u001b[1;31m---------------------------------------------------------------------------\u001b[0m",
      "\u001b[1;31mNameError\u001b[0m                                 Traceback (most recent call last)",
      "\u001b[1;32m<ipython-input-34-da853d0141c0>\u001b[0m in \u001b[0;36m<module>\u001b[1;34m()\u001b[0m\n\u001b[0;32m      1\u001b[0m \u001b[0mclf\u001b[0m \u001b[1;33m=\u001b[0m \u001b[0mKNeighborsClassifier\u001b[0m\u001b[1;33m(\u001b[0m\u001b[0mbestk\u001b[0m\u001b[1;33m)\u001b[0m\u001b[1;33m\u001b[0m\u001b[1;33m\u001b[0m\u001b[0m\n\u001b[1;32m----> 2\u001b[1;33m \u001b[0mclf\u001b[0m\u001b[1;33m.\u001b[0m\u001b[0mfit\u001b[0m\u001b[1;33m(\u001b[0m\u001b[0mX_train_pca\u001b[0m\u001b[1;33m,\u001b[0m \u001b[0my_train\u001b[0m\u001b[1;33m)\u001b[0m\u001b[1;33m\u001b[0m\u001b[1;33m\u001b[0m\u001b[0m\n\u001b[0m\u001b[0;32m      3\u001b[0m \u001b[0mtestPredictions\u001b[0m \u001b[1;33m=\u001b[0m \u001b[0mclf\u001b[0m\u001b[1;33m.\u001b[0m\u001b[0mpredict\u001b[0m\u001b[1;33m(\u001b[0m\u001b[0mX_test\u001b[0m\u001b[1;33m)\u001b[0m\u001b[1;33m\u001b[0m\u001b[1;33m\u001b[0m\u001b[0m\n\u001b[0;32m      4\u001b[0m \u001b[1;31m# 0.8238705881664217, pca\u001b[0m\u001b[1;33m\u001b[0m\u001b[1;33m\u001b[0m\u001b[1;33m\u001b[0m\u001b[0m\n",
      "\u001b[1;31mNameError\u001b[0m: name 'X_train_pca' is not defined"
     ]
    }
   ],
   "source": [
    "clf = KNeighborsClassifier(bestk)\n",
    "clf.fit(X_train_pca, y_train)\n",
    "testPredictions = clf.predict(X_test)\n",
    "# 0.8238705881664217, pca"
   ]
  },
  {
   "cell_type": "code",
   "execution_count": 36,
   "metadata": {},
   "outputs": [
    {
     "name": "stdout",
     "output_type": "stream",
     "text": [
      "Confusion Matrix: \n",
      "\n",
      "[[2011   99]\n",
      " [ 292  142]]\n",
      "\n",
      "\n",
      "Classification Report:\n",
      "\n",
      "              precision    recall  f1-score   support\n",
      "\n",
      "         0.0       0.87      0.95      0.91      2110\n",
      "         1.0       0.59      0.33      0.42       434\n",
      "\n",
      "    accuracy                           0.85      2544\n",
      "   macro avg       0.73      0.64      0.67      2544\n",
      "weighted avg       0.82      0.85      0.83      2544\n",
      "\n",
      "\n",
      "\n",
      "F1-Score:\n",
      "\n",
      "0.827693223582\n"
     ]
    }
   ],
   "source": [
    "print(\"Confusion Matrix: \\n\")\n",
    "print(confusion_matrix(y_test, testPredictions))\n",
    "print(\"\\n\\nClassification Report:\\n\")\n",
    "print(classification_report(y_test, testPredictions))\n",
    "print('\\n\\nF1-Score:\\n')\n",
    "print(f1_score(y_test, testPredictions, average=\"weighted\"))"
   ]
  },
  {
   "cell_type": "code",
   "execution_count": null,
   "metadata": {},
   "outputs": [],
   "source": [
    "tests2020 = [\n",
    "    ('LUKE JULIAN', 5., 3.),\n",
    "    ('DYLAN KO', 2., 1.),\n",
    "    ('KYLE MORAN', 1., 1.),\n",
    "    ('LUC HAGEN', 1., 2.),\n",
    "    ('JAKE MITCHEM', 3., 1.),\n",
    "    ('MAX SEVCIK', .0, .0),\n",
    "    ('CHRIS CATHCART', .0, .0),\n",
    "    ('BO RAADAM', .0, .0),\n",
    "    ('TAYLOR STACK', 9., 6.),\n",
    "    ('CHARLIE SWEENEY', 3., 5.),\n",
    "    ('CARSON BIX', 1., 1.),\n",
    "    ('ISAIAH RODARTE', 1., .0),\n",
    "    ('NATHAN DAVIS', .0, .0),\n",
    "    ('PADDY ROBB', 2., .0),\n",
    "    ('JOHN O\\'MALLEY', .0, .0),\n",
    "    ('EVAN SUTHERLAND', 1., .0)\n",
    "]"
   ]
  },
  {
   "cell_type": "code",
   "execution_count": null,
   "metadata": {},
   "outputs": [],
   "source": [
    "year = 2020\n",
    "for i in tests2020:\n",
    "    name = i[0]\n",
    "    if name != \"LUKE JULIAN\":\n",
    "        None\n",
    "    c = i[1]\n",
    "    a = i[2]\n",
    "    if name != 'KYLE MORAN':\n",
    "        subject = mdf.loc[(mdf['Name']==name) & (mdf['Distance'] > 0) & (((mdf['Year'] <= year) & (mdf['Season'].values != xc) & (mdf['Distance'] > 0)) | ((mdf['Year'] < year) & (mdf['Season'].values == xc)))]\n",
    "    else:\n",
    "        subject = mdf.loc[(mdf['Athlete ID']==7109122) & (mdf['Name']==name) & (mdf['Distance'] > 0) & (((mdf['Year'] <= year) & (mdf['Season'].values != xc) & (mdf['Distance'] > 0)) | ((mdf['Year'] < year) & (mdf['Season'].values == xc)))]\n",
    "    subject['Time_since_PR'] = 2020-subject['Year']\n",
    "    subject['Championship Medals'] = [c] * len(subject)\n",
    "    if aa:\n",
    "        subject['All Americans'] = [a] * len(subject)\n",
    "    data = subject.sort_values('Time').drop_duplicates('Event')\n",
    "    data = data[features].fillna(.0)\n",
    "\n",
    "    if len(data) == 0:\n",
    "        print(name, 'None')\n",
    "        continue\n",
    "    pred = clf.predict(data.to_numpy())\n",
    "\n",
    "    data['Prediction'] = [p for p in pred]\n",
    "    data['All-American?'] = ['Yes' if p==1. else 'No' for p in pred]\n",
    "\n",
    "    counts = subject['Distance'].astype(str) + ' ' + subject['Season'].astype(str)    # distinguish seasons\n",
    "    counts = (counts.value_counts() / len(subject)).to_dict()\n",
    "\n",
    "    data = data[['Distance', 'Season', 'Prediction']].to_numpy()\n",
    "    \n",
    "    weights = []\n",
    "    for row in data:\n",
    "        # print(row, '\"'+str(row[0])+' '+str(int(row[1]))+'\"', counts[str(row[0])+' '+str(int(row[1]))])\n",
    "        if target == 'PlaceNATS':\n",
    "            weights.append(row[2]*counts[str(row[0])+' '+str(int(row[1]))])    # *(row[0]/5000)**0.5\n",
    "        elif target == 'All Americans':\n",
    "            weights.append(row[2])    # *(row[0]/5000)**0.5\n",
    "    print('-', name+':', sum(weights))"
   ]
  },
  {
   "cell_type": "markdown",
   "metadata": {},
   "source": [
    "# All American or not\n",
    "## Without All-Americans\n",
    "- LUKE JULIAN: 0.4782608695652174\n",
    "- DYLAN KO: 0.6956521739130435\n",
    "- KYLE MORAN: 0.625\n",
    "- LUC HAGEN: 0.2\n",
    "- JAKE MITCHEM: 0.25\n",
    "- MAX SEVCIK: 0.3529411764705882\n",
    "- CHRIS CATHCART: 0.125\n",
    "- BO RAADAM: 0.5\n",
    "- TAYLOR STACK: 0.6949152542372881\n",
    "- CHARLIE SWEENEY: 0.6571428571428571\n",
    "- CARSON BIX: 0.8571428571428571\n",
    "- ISAIAH RODARTE: 0.7096774193548387\n",
    "- NATHAN DAVIS: 0.0\n",
    "- PADDY ROBB: 0.0\n",
    "- JOHN O'MALLEY: 0.5\n",
    "- EVAN SUTHERLAND: 0.030303030303030304\n",
    "##### Distance/1000\n",
    "##### k = 7; F1-Score: 0.8193457223355065\n",
    "\n",
    "This may be skewed toward the longer distances and event specialists.  Kyle and Dylan probably would be higher if covid hadn't ended track before they could improve their resumes further.  I don't know how Stack is so low, it might be because he's run a lot of 3ks but all at altitude.  Looks like you need to run well in your most common event.  If Stack ran 5000s as much as he runs 3000s (inflated by steeple), he'd score high.\n",
    "\n",
    "## With AA\n",
    "- LUKE JULIAN: 0.4782608695652174\n",
    "- DYLAN KO: 0.6956521739130435\n",
    "- KYLE MORAN: 0.625\n",
    "- LUC HAGEN: 0.2\n",
    "- JAKE MITCHEM: 0.25\n",
    "- MAX SEVCIK: 0.3529411764705882\n",
    "- CHRIS CATHCART: 0.125\n",
    "- BO RAADAM: 0.5\n",
    "- TAYLOR STACK: 0.6949152542372881\n",
    "- CHARLIE SWEENEY: 0.7142857142857143\n",
    "- CARSON BIX: 0.8571428571428571\n",
    "- ISAIAH RODARTE: 0.7096774193548387\n",
    "- NATHAN DAVIS: 0.0\n",
    "- PADDY ROBB: 0.0\n",
    "- JOHN O'MALLEY: 0.5\n",
    "- EVAN SUTHERLAND: 0.030303030303030304\n",
    "#### Distance/1000\n",
    "###### k = 7; F1-Score: 0.8244878140101404\n",
    "- LUKE JULIAN: 0.4782608695652174\n",
    "- DYLAN KO: 0.6956521739130435\n",
    "- KYLE MORAN: 0.625\n",
    "- LUC HAGEN: 0.2\n",
    "- JAKE MITCHEM: 0.25\n",
    "- MAX SEVCIK: 0.3529411764705882\n",
    "- CHRIS CATHCART: 0.125\n",
    "- BO RAADAM: 0.5\n",
    "- TAYLOR STACK: 0.6949152542372881\n",
    "- CHARLIE SWEENEY: 0.7142857142857143\n",
    "- CARSON BIX: 0.8571428571428571\n",
    "- ISAIAH RODARTE: 0.7741935483870968\n",
    "- NATHAN DAVIS: 0.0\n",
    "- PADDY ROBB: 0.0\n",
    "- JOHN O'MALLEY: 0.5\n",
    "- EVAN SUTHERLAND: 0.0\n",
    "\n",
    "# Predict Number of All-Americans\n",
    "##### k = 7; F1-Score: 0.737786316616984\n",
    "- LUKE JULIAN: 5.0\n",
    "- DYLAN KO: 4.0\n",
    "- KYLE MORAN: 4.0\n",
    "- LUC HAGEN: 2.0\n",
    "- JAKE MITCHEM: 7.0\n",
    "- MAX SEVCIK: 0.0\n",
    "- CHRIS CATHCART: 0.0\n",
    "- BO RAADAM: 1.0\n",
    "- TAYLOR STACK: 15.0\n",
    "- CHARLIE SWEENEY: 7.0\n",
    "- CARSON BIX: 6.0\n",
    "- ISAIAH RODARTE: 1.0\n",
    "- NATHAN DAVIS: 0.0\n",
    "- PADDY ROBB: 0.0\n",
    "- JOHN O'MALLEY: 0.0\n",
    "- EVAN SUTHERLAND: 0.0\n",
    "##### k = 20\n",
    "- LUKE JULIAN: 1.0\n",
    "- DYLAN KO: 0.0\n",
    "- KYLE MORAN: 1.0\n",
    "- LUC HAGEN: 2.0\n",
    "- JAKE MITCHEM: 1.0\n",
    "- MAX SEVCIK: 0.0\n",
    "- CHRIS CATHCART: 0.0\n",
    "- BO RAADAM: 0.0\n",
    "- TAYLOR STACK: 6.0\n",
    "- CHARLIE SWEENEY: 2.0\n",
    "- CARSON BIX: 4.0\n",
    "- ISAIAH RODARTE: 0.0\n",
    "- NATHAN DAVIS: 0.0\n",
    "- PADDY ROBB: 0.0\n",
    "- JOHN O'MALLEY: 0.0\n",
    "- EVAN SUTHERLAND: 0.0"
   ]
  },
  {
   "cell_type": "markdown",
   "metadata": {},
   "source": [
    "### Base: aa at 4, champs at 5\n",
    "[1500.    0.    0.] \"1500.0 0\" 0.17391304347826086<br>\n",
    "[1.60934e+03 1.00000e+00 0.00000e+00] \"1609.34 1\" 0.21739130434782608<br>\n",
    "[3.e+03 1.e+00 1.e+00] \"3000.0 1\" 0.21739130434782608<br>\n",
    "[5.e+03 0.e+00 1.e+00] \"5000.0 0\" 0.08695652173913043<br>\n",
    "[8.e+03 2.e+00 1.e+00] \"8000.0 2\" 0.17391304347826086<br>\n",
    "[1.e+04 2.e+00 0.e+00] \"10000.0 2\" 0.043478260869565216<br>\n",
    "- LUKE JULIAN: 0.4782608695652174\n",
    "\n",
    "## W/O A-A\n",
    "#### Champs set to 9\n",
    "[1.5e+03 0.0e+00 1.0e+00] \"1500.0 0\" 0.17391304347826086<br>\n",
    "[1.60934e+03 1.00000e+00 0.00000e+00] \"1609.34 1\" 0.21739130434782608<br>\n",
    "[3.e+03 1.e+00 1.e+00] \"3000.0 1\" 0.21739130434782608<br>\n",
    "[5.e+03 0.e+00 1.e+00] \"5000.0 0\" 0.08695652173913043<br>\n",
    "[8.e+03 2.e+00 1.e+00] \"8000.0 2\" 0.17391304347826086<br>\n",
    "[1.e+04 2.e+00 0.e+00] \"10000.0 2\" 0.043478260869565216<br>\n",
    "- LUKE JULIAN: 0.6521739130434783\n",
    "\n",
    "## W/ A-A\n",
    "#### All-americans set to 6, champs 5\n",
    "[1.5e+03 0.0e+00 1.0e+00] \"1500.0 0\" 0.17391304347826086<br>\n",
    "[1.60934e+03 1.00000e+00 0.00000e+00] \"1609.34 1\" 0.21739130434782608<br>\n",
    "[3.e+03 1.e+00 1.e+00] \"3000.0 1\" 0.21739130434782608<br>\n",
    "[5.e+03 0.e+00 1.e+00] \"5000.0 0\" 0.08695652173913043<br>\n",
    "[8.e+03 2.e+00 1.e+00] \"8000.0 2\" 0.17391304347826086<br>\n",
    "[1.e+04 2.e+00 0.e+00] \"10000.0 2\" 0.043478260869565216<br>\n",
    "- LUKE JULIAN: 0.6521739130434783"
   ]
  },
  {
   "cell_type": "code",
   "execution_count": null,
   "metadata": {},
   "outputs": [],
   "source": []
  },
  {
   "cell_type": "code",
   "execution_count": null,
   "metadata": {},
   "outputs": [],
   "source": []
  },
  {
   "cell_type": "code",
   "execution_count": null,
   "metadata": {},
   "outputs": [],
   "source": []
  },
  {
   "cell_type": "code",
   "execution_count": null,
   "metadata": {},
   "outputs": [],
   "source": []
  }
 ],
 "metadata": {
  "kernelspec": {
   "display_name": "Python 3",
   "language": "python",
   "name": "python3"
  },
  "language_info": {
   "codemirror_mode": {
    "name": "ipython",
    "version": 3
   },
   "file_extension": ".py",
   "mimetype": "text/x-python",
   "name": "python",
   "nbconvert_exporter": "python",
   "pygments_lexer": "ipython3",
   "version": "3.7.7"
  }
 },
 "nbformat": 4,
 "nbformat_minor": 4
}
