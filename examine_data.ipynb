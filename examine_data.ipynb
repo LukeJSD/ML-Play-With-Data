{
 "cells": [
  {
   "cell_type": "markdown",
   "metadata": {},
   "source": [
    "# Notes\n",
    "- If meet id inclues a `/`, it is probably wrong.  Still don't know why, but we won't use Meet_ID anyways.\n",
    "- Kyle has TWO athlete id's, 7109122 and 6459186.  Could be a problem."
   ]
  },
  {
   "cell_type": "code",
   "execution_count": 1,
   "metadata": {},
   "outputs": [],
   "source": [
    "import pandas as pd\n",
    "import numpy as np\n",
    "import utils\n",
    "import matplotlib.pyplot as plt\n",
    "\n",
    "pd.set_option('display.max_rows', 500)"
   ]
  },
  {
   "cell_type": "code",
   "execution_count": 2,
   "metadata": {
    "scrolled": true
   },
   "outputs": [
    {
     "name": "stderr",
     "output_type": "stream",
     "text": [
      "C:\\ProgramData\\Miniconda3\\lib\\site-packages\\IPython\\core\\interactiveshell.py:2714: DtypeWarning: Columns (3,5) have mixed types.Specify dtype option on import or set low_memory=False.\n",
      "  interactivity=interactivity, compiler=compiler, result=result)\n"
     ]
    }
   ],
   "source": [
    "mdf = pd.read_csv('M_athlete_results.csv')\n",
    "fdf = pd.read_csv('F_athlete_results.csv')"
   ]
  },
  {
   "cell_type": "code",
   "execution_count": null,
   "metadata": {},
   "outputs": [],
   "source": [
    "# String marks to float times in seconds\n",
    "mdf['Time'] = [utils.Time(m) if (e in utils.event_classification()['Track'] and utils.ismark(m)) else None for e, m in zip(mdf['Event'], mdf['Mark'])]\n",
    "fdf['Time'] = [utils.Time(m) if (e in utils.event_classification()['Track'] and utils.ismark(m)) else None for e, m in zip(fdf['Event'], fdf['Mark'])]"
   ]
  },
  {
   "cell_type": "code",
   "execution_count": null,
   "metadata": {},
   "outputs": [],
   "source": [
    "# String events to float distance in meters\n",
    "mdf['Distance'] = [utils.string_to_distance(e) if e in utils.event_classification()['Track'] else None for e in mdf['Event']]\n",
    "fdf['Distance'] = [utils.string_to_distance(e) if e in utils.event_classification()['Track'] else None for e in fdf['Event']]"
   ]
  },
  {
   "cell_type": "code",
   "execution_count": null,
   "metadata": {},
   "outputs": [],
   "source": [
    "csm_m = mdf.loc[(mdf['School'] == 'COLORADO MINES') & (mdf['Season'] == 'Outdoor') & (mdf['Event'] == '5000')]\n",
    "csm_f = fdf.loc[(fdf['School'] == 'COLORADO MINES') & (fdf['Season'] == 'Outdoor') & (fdf['Event'] == '5000')]"
   ]
  },
  {
   "cell_type": "code",
   "execution_count": null,
   "metadata": {},
   "outputs": [],
   "source": [
    "xcnats_m = mdf.loc[mdf['Meet_Name'] == 'NCAA Division II Cross Country Championships'].sort_values(['Place', 'Mark'])\n",
    "xcnats_f = fdf.loc[fdf['Meet_Name'] == 'NCAA Division II Cross Country Championships'].sort_values(['Place', 'Mark'])"
   ]
  },
  {
   "cell_type": "code",
   "execution_count": null,
   "metadata": {},
   "outputs": [],
   "source": [
    "f5 = fdf.loc[(fdf['Season'] == 'Outdoor') & (fdf['Distance'] == 5000.0)]\n",
    "m5 = mdf.loc[(mdf['Season'] == 'Outdoor') & (mdf['Distance'] == 5000.0)]"
   ]
  },
  {
   "cell_type": "code",
   "execution_count": null,
   "metadata": {},
   "outputs": [],
   "source": [
    "def prior_to_xc(gender, allresults=False, nats=True):\n",
    "    if gender == 'M':\n",
    "        DF = mdf\n",
    "        xcnats = xcnats_m\n",
    "    elif gender == 'F':\n",
    "        DF = fdf\n",
    "        xcnats = xcnats_f\n",
    "    # PRs before a specified year\n",
    "    xcnats_dic = {}\n",
    "    for year in range(2012, 2020):\n",
    "        df1 = DF.loc[((DF['Year'] <= year) & (DF['Season'] != 'Cross Country') & (DF['Distance'] > 0)) | ((DF['Year'] < year) & (DF['Season'] == 'Cross Country'))]\n",
    "        for s in ['Outdoor', 'Indoor']:\n",
    "            records = utils.get_records()[s]\n",
    "            for e, m in records.items():\n",
    "                df1 = df1.loc[(df1['Season'] != s) | (df1['Event'] != e) | ((df1['Season'] == s) & (df1['Event'] == e) & (df1['Time'] >= utils.Time(m)))]\n",
    "        df2 = xcnats.loc[xcnats['Year'] == year]\n",
    "        if allresults:\n",
    "            df3 = df1    # all results rather than just PRs\n",
    "        else:\n",
    "            df3 = df1.sort_values('Time').drop_duplicates(subset=['Athlete ID', 'Distance', 'Season'])    # Season specific PRs?\n",
    "        if nats:\n",
    "            df = df3.join(df2.set_index('Athlete ID'), on='Athlete ID', rsuffix='NATS')\n",
    "        else:\n",
    "            df = df3\n",
    "            df = df[\n",
    "                [\n",
    "                    'Name',\n",
    "                    'Athlete ID',\n",
    "                    'Academic_Year',\n",
    "                    'School', \n",
    "                    'Conference',\n",
    "                    'Meet_Name',\n",
    "                    'Year',\n",
    "                    'Season',\n",
    "                    'Place',\n",
    "                    'Time',\n",
    "                    'Distance',\n",
    "                    'YearNATS',\n",
    "                    'DistanceNATS',\n",
    "                    'PlaceNATS',\n",
    "                    'TimeNATS'\n",
    "                ]\n",
    "            ]\n",
    "            df = df.dropna(subset=['DistanceNATS'])\n",
    "        xcnats_dic[year] = df\n",
    "    return xcnats_dic"
   ]
  },
  {
   "cell_type": "code",
   "execution_count": null,
   "metadata": {},
   "outputs": [],
   "source": [
    "resvar = True\n",
    "natsvar = True\n",
    "xcnats_dic_m = prior_to_xc('M', resvar, natsvar)"
   ]
  },
  {
   "cell_type": "code",
   "execution_count": null,
   "metadata": {},
   "outputs": [],
   "source": [
    "if resvar:\n",
    "    assert len(mdf.loc[(mdf['Name']=='KALE ADAMS') & (mdf['Season']=='Cross Country') & (mdf['Year'] < 2019)]) == len(xcnats_dic_m[2019].loc[(xcnats_dic_m[2019]['Name']=='KALE ADAMS') & (xcnats_dic_m[2019]['Season']=='Cross Country')])"
   ]
  },
  {
   "cell_type": "code",
   "execution_count": null,
   "metadata": {},
   "outputs": [],
   "source": [
    "del m5\n",
    "del f5\n",
    "del csm_f\n",
    "del csm_m\n",
    "del xcnats_m\n",
    "del xcnats_f\n",
    "del mdf\n",
    "del fdf"
   ]
  },
  {
   "cell_type": "code",
   "execution_count": null,
   "metadata": {},
   "outputs": [],
   "source": [
    "import tensorflow as tf\n",
    "import tensorflow.keras as keras\n",
    "import numpy as np\n",
    "from tensorflow.keras import Sequential\n",
    "from tensorflow.keras.layers import Dense, Dropout\n",
    "from sklearn.model_selection import train_test_split\n",
    "import sklearn as sk"
   ]
  },
  {
   "cell_type": "code",
   "execution_count": null,
   "metadata": {},
   "outputs": [],
   "source": [
    "df = pd.DataFrame()\n",
    "for y, d in xcnats_dic_m.items():\n",
    "    df = pd.concat([df, d])\n",
    "df['Time_since_PR'] = df['YearNATS']-df['Year']"
   ]
  },
  {
   "cell_type": "code",
   "execution_count": null,
   "metadata": {},
   "outputs": [],
   "source": []
  },
  {
   "cell_type": "code",
   "execution_count": null,
   "metadata": {},
   "outputs": [],
   "source": []
  },
  {
   "cell_type": "code",
   "execution_count": null,
   "metadata": {},
   "outputs": [],
   "source": [
    "utils.get_records()"
   ]
  },
  {
   "cell_type": "code",
   "execution_count": null,
   "metadata": {},
   "outputs": [],
   "source": []
  },
  {
   "cell_type": "code",
   "execution_count": null,
   "metadata": {},
   "outputs": [],
   "source": []
  },
  {
   "cell_type": "code",
   "execution_count": 3,
   "metadata": {},
   "outputs": [
    {
     "name": "stderr",
     "output_type": "stream",
     "text": [
      "C:\\Users\\luke\\College\\2020_21\\Semester_7\\Machine_learning\\Project\\PlayWithData\\utils.py:261: SettingWithCopyWarning: \n",
      "A value is trying to be set on a copy of a slice from a DataFrame\n",
      "\n",
      "See the caveats in the documentation: https://pandas.pydata.org/pandas-docs/stable/user_guide/indexing.html#returning-a-view-versus-a-copy\n",
      "  df[col][df[col] == val] = dummy\n"
     ]
    },
    {
     "data": {
      "text/plain": [
       "{0: 'Indoor', 1: 'Cross Country', 2: 'Outdoor', 3: 'Out of Season'}"
      ]
     },
     "execution_count": 3,
     "metadata": {},
     "output_type": "execute_result"
    }
   ],
   "source": [
    "utils.make_dummy_col(mdf, 'Season')[1]"
   ]
  },
  {
   "cell_type": "code",
   "execution_count": null,
   "metadata": {},
   "outputs": [],
   "source": []
  },
  {
   "cell_type": "code",
   "execution_count": null,
   "metadata": {},
   "outputs": [],
   "source": []
  },
  {
   "cell_type": "code",
   "execution_count": null,
   "metadata": {},
   "outputs": [],
   "source": []
  },
  {
   "cell_type": "code",
   "execution_count": null,
   "metadata": {},
   "outputs": [],
   "source": []
  }
 ],
 "metadata": {
  "kernelspec": {
   "display_name": "Python 3",
   "language": "python",
   "name": "python3"
  },
  "language_info": {
   "codemirror_mode": {
    "name": "ipython",
    "version": 3
   },
   "file_extension": ".py",
   "mimetype": "text/x-python",
   "name": "python",
   "nbconvert_exporter": "python",
   "pygments_lexer": "ipython3",
   "version": "3.7.7"
  }
 },
 "nbformat": 4,
 "nbformat_minor": 4
}
