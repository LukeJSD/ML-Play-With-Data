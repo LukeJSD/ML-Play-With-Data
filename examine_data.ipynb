{
 "cells": [
  {
   "cell_type": "code",
   "execution_count": 40,
   "metadata": {},
   "outputs": [],
   "source": [
    "import pandas as pd\n",
    "import numpy as np\n",
    "import utils\n",
    "\n",
    "pd.set_option('display.max_rows', 500)"
   ]
  },
  {
   "cell_type": "code",
   "execution_count": 28,
   "metadata": {
    "scrolled": true
   },
   "outputs": [
    {
     "name": "stderr",
     "output_type": "stream",
     "text": [
      "C:\\ProgramData\\Miniconda3\\lib\\site-packages\\IPython\\core\\interactiveshell.py:2714: DtypeWarning: Columns (3,5) have mixed types.Specify dtype option on import or set low_memory=False.\n",
      "  interactivity=interactivity, compiler=compiler, result=result)\n"
     ]
    }
   ],
   "source": [
    "mdf = pd.read_csv('M_athlete_results.csv')\n",
    "fdf = pd.read_csv('F_athlete_results.csv')"
   ]
  },
  {
   "cell_type": "code",
   "execution_count": 29,
   "metadata": {},
   "outputs": [],
   "source": [
    "csm = mdf.loc[(mdf['School'] == 'COLORADO MINES') & (mdf['Season'] == 'Outdoor') & (mdf['Event'] == '5000')]"
   ]
  },
  {
   "cell_type": "code",
   "execution_count": 30,
   "metadata": {},
   "outputs": [],
   "source": [
    "xcnats = mdf.loc[mdf['Meet_Name'] == 'NCAA Division II Cross Country Championships'].sort_values(['Place', 'Mark'])"
   ]
  },
  {
   "cell_type": "code",
   "execution_count": 47,
   "metadata": {},
   "outputs": [],
   "source": [
    "xcnats['Time'] = [Time(m) if (e in utils.event_classification()['Track'] and not (m == 'dnf' or m == 'DNF')) else None for e, m in zip(xcnats['Event'], xcnats['Mark'])]"
   ]
  },
  {
   "cell_type": "code",
   "execution_count": 54,
   "metadata": {},
   "outputs": [
    {
     "data": {
      "text/html": [
       "<div>\n",
       "<style scoped>\n",
       "    .dataframe tbody tr th:only-of-type {\n",
       "        vertical-align: middle;\n",
       "    }\n",
       "\n",
       "    .dataframe tbody tr th {\n",
       "        vertical-align: top;\n",
       "    }\n",
       "\n",
       "    .dataframe thead th {\n",
       "        text-align: right;\n",
       "    }\n",
       "</style>\n",
       "<table border=\"1\" class=\"dataframe\">\n",
       "  <thead>\n",
       "    <tr style=\"text-align: right;\">\n",
       "      <th></th>\n",
       "      <th>Athlete ID</th>\n",
       "      <th>Year</th>\n",
       "      <th>Place</th>\n",
       "      <th>Time</th>\n",
       "    </tr>\n",
       "    <tr>\n",
       "      <th>Name</th>\n",
       "      <th></th>\n",
       "      <th></th>\n",
       "      <th></th>\n",
       "      <th></th>\n",
       "    </tr>\n",
       "  </thead>\n",
       "  <tbody>\n",
       "    <tr>\n",
       "      <th>EZRA MUTAI</th>\n",
       "      <td>7403854.0</td>\n",
       "      <td>2019.0</td>\n",
       "      <td>1.0</td>\n",
       "      <td>1771.20</td>\n",
       "    </tr>\n",
       "    <tr>\n",
       "      <th>TABOR STEVENS</th>\n",
       "      <td>3256448.0</td>\n",
       "      <td>2013.0</td>\n",
       "      <td>1.0</td>\n",
       "      <td>1790.10</td>\n",
       "    </tr>\n",
       "    <tr>\n",
       "      <th>VINCENT KIPROP</th>\n",
       "      <td>5488472.0</td>\n",
       "      <td>2015.5</td>\n",
       "      <td>1.5</td>\n",
       "      <td>1760.55</td>\n",
       "    </tr>\n",
       "    <tr>\n",
       "      <th>ALFRED CHELANGA</th>\n",
       "      <td>5486058.0</td>\n",
       "      <td>2015.5</td>\n",
       "      <td>1.5</td>\n",
       "      <td>1770.45</td>\n",
       "    </tr>\n",
       "    <tr>\n",
       "      <th>VEGARD OLSTAD</th>\n",
       "      <td>4078538.0</td>\n",
       "      <td>2013.0</td>\n",
       "      <td>2.0</td>\n",
       "      <td>1801.70</td>\n",
       "    </tr>\n",
       "    <tr>\n",
       "      <th>...</th>\n",
       "      <td>...</td>\n",
       "      <td>...</td>\n",
       "      <td>...</td>\n",
       "      <td>...</td>\n",
       "    </tr>\n",
       "    <tr>\n",
       "      <th>JETT HALL</th>\n",
       "      <td>6872233.0</td>\n",
       "      <td>2019.0</td>\n",
       "      <td>261.0</td>\n",
       "      <td>2165.80</td>\n",
       "    </tr>\n",
       "    <tr>\n",
       "      <th>EAN ORMSBY</th>\n",
       "      <td>6422377.0</td>\n",
       "      <td>2018.0</td>\n",
       "      <td>261.0</td>\n",
       "      <td>2299.10</td>\n",
       "    </tr>\n",
       "    <tr>\n",
       "      <th>WYATT SCHLAGER</th>\n",
       "      <td>7395289.0</td>\n",
       "      <td>2019.0</td>\n",
       "      <td>262.0</td>\n",
       "      <td>2169.80</td>\n",
       "    </tr>\n",
       "    <tr>\n",
       "      <th>EMERIC ARNAUD</th>\n",
       "      <td>7044417.0</td>\n",
       "      <td>2019.0</td>\n",
       "      <td>NaN</td>\n",
       "      <td>NaN</td>\n",
       "    </tr>\n",
       "    <tr>\n",
       "      <th>EVAN DEL RIO</th>\n",
       "      <td>6869955.0</td>\n",
       "      <td>2019.0</td>\n",
       "      <td>NaN</td>\n",
       "      <td>NaN</td>\n",
       "    </tr>\n",
       "  </tbody>\n",
       "</table>\n",
       "<p>1067 rows × 4 columns</p>\n",
       "</div>"
      ],
      "text/plain": [
       "                 Athlete ID    Year  Place     Time\n",
       "Name                                               \n",
       "EZRA MUTAI        7403854.0  2019.0    1.0  1771.20\n",
       "TABOR STEVENS     3256448.0  2013.0    1.0  1790.10\n",
       "VINCENT KIPROP    5488472.0  2015.5    1.5  1760.55\n",
       "ALFRED CHELANGA   5486058.0  2015.5    1.5  1770.45\n",
       "VEGARD OLSTAD     4078538.0  2013.0    2.0  1801.70\n",
       "...                     ...     ...    ...      ...\n",
       "JETT HALL         6872233.0  2019.0  261.0  2165.80\n",
       "EAN ORMSBY        6422377.0  2018.0  261.0  2299.10\n",
       "WYATT SCHLAGER    7395289.0  2019.0  262.0  2169.80\n",
       "EMERIC ARNAUD     7044417.0  2019.0    NaN      NaN\n",
       "EVAN DEL RIO      6869955.0  2019.0    NaN      NaN\n",
       "\n",
       "[1067 rows x 4 columns]"
      ]
     },
     "execution_count": 54,
     "metadata": {},
     "output_type": "execute_result"
    }
   ],
   "source": [
    "xcnats.groupby('Name').mean().sort_values(['Place', 'Time'])"
   ]
  },
  {
   "cell_type": "code",
   "execution_count": null,
   "metadata": {},
   "outputs": [],
   "source": []
  }
 ],
 "metadata": {
  "kernelspec": {
   "display_name": "Python 3",
   "language": "python",
   "name": "python3"
  },
  "language_info": {
   "codemirror_mode": {
    "name": "ipython",
    "version": 3
   },
   "file_extension": ".py",
   "mimetype": "text/x-python",
   "name": "python",
   "nbconvert_exporter": "python",
   "pygments_lexer": "ipython3",
   "version": "3.7.7"
  }
 },
 "nbformat": 4,
 "nbformat_minor": 4
}
