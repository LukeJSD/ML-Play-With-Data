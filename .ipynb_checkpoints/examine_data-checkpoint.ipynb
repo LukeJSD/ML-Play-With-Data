{
 "cells": [
  {
   "cell_type": "markdown",
   "metadata": {},
   "source": [
    "# Notes\n",
    "- If meet id inclues a `/`, it is probably wrong.  Still don't know why, but we won't use Meet_ID anyways.\n",
    "- Kyle has TWO athlete id's, 7109122 and 6459186.  Could be a problem."
   ]
  },
  {
   "cell_type": "markdown",
   "metadata": {},
   "source": [
    "# Prepare Data"
   ]
  },
  {
   "cell_type": "code",
   "execution_count": 1,
   "metadata": {},
   "outputs": [],
   "source": [
    "import pandas as pd\n",
    "import numpy as np\n",
    "import utils\n",
    "import matplotlib.pyplot as plt\n",
    "\n",
    "pd.set_option('display.max_rows', 500)"
   ]
  },
  {
   "cell_type": "code",
   "execution_count": 2,
   "metadata": {
    "scrolled": true
   },
   "outputs": [
    {
     "name": "stderr",
     "output_type": "stream",
     "text": [
      "C:\\ProgramData\\Miniconda3\\lib\\site-packages\\IPython\\core\\interactiveshell.py:2714: DtypeWarning: Columns (3,5) have mixed types.Specify dtype option on import or set low_memory=False.\n",
      "  interactivity=interactivity, compiler=compiler, result=result)\n"
     ]
    }
   ],
   "source": [
    "mdf = pd.read_csv('M_athlete_results.csv')\n",
    "fdf = pd.read_csv('F_athlete_results.csv')"
   ]
  },
  {
   "cell_type": "code",
   "execution_count": 3,
   "metadata": {},
   "outputs": [],
   "source": [
    "# String marks to float times in seconds\n",
    "mdf['Time'] = [utils.Time(m) if (e in utils.event_classification()['Track'] and utils.ismark(m)) else None for e, m in zip(mdf['Event'], mdf['Mark'])]\n",
    "fdf['Time'] = [utils.Time(m) if (e in utils.event_classification()['Track'] and utils.ismark(m)) else None for e, m in zip(fdf['Event'], fdf['Mark'])]"
   ]
  },
  {
   "cell_type": "code",
   "execution_count": 4,
   "metadata": {},
   "outputs": [],
   "source": [
    "# String events to float distance in meters\n",
    "mdf['Distance'] = [utils.string_to_distance(e) if e in utils.event_classification()['Track'] else None for e in mdf['Event']]\n",
    "fdf['Distance'] = [utils.string_to_distance(e) if e in utils.event_classification()['Track'] else None for e in fdf['Event']]"
   ]
  },
  {
   "cell_type": "code",
   "execution_count": 5,
   "metadata": {},
   "outputs": [],
   "source": [
    "xcnats_m = mdf.loc[mdf['Meet_Name'] == 'NCAA Division II Cross Country Championships'].sort_values(['Place', 'Mark'])\n",
    "xcnats_f = fdf.loc[fdf['Meet_Name'] == 'NCAA Division II Cross Country Championships'].sort_values(['Place', 'Mark'])"
   ]
  },
  {
   "cell_type": "code",
   "execution_count": 6,
   "metadata": {},
   "outputs": [
    {
     "name": "stdout",
     "output_type": "stream",
     "text": [
      "Done\n"
     ]
    }
   ],
   "source": [
    "avg = mdf.groupby(['Athlete ID', 'Distance', 'Season']).mean().to_dict()\n",
    "ls = []\n",
    "for k, v in avg['Time'].items():\n",
    "    ls.append([k[0], k[1], k[2], v])\n",
    "avg = pd.DataFrame(ls, columns=['Athlete ID', 'Distance', 'Season', 'TimeAVG'])\n",
    "mdf = pd.merge(mdf, avg, how='inner', left_on=['Athlete ID', 'Distance', 'Season'], right_on=['Athlete ID', 'Distance', 'Season'])\n",
    "\n",
    "std = mdf.groupby(['Athlete ID', 'Distance', 'Season']).std().to_dict()\n",
    "ls = []\n",
    "for k, v in std['Time'].items():\n",
    "    ls.append([k[0], k[1], k[2], v])\n",
    "std = pd.DataFrame(ls, columns=['Athlete ID', 'Distance', 'Season', 'TimeSTD'])\n",
    "mdf = pd.merge(mdf, std, how='inner', left_on=['Athlete ID', 'Distance', 'Season'], right_on=['Athlete ID', 'Distance', 'Season'])\n",
    "\n",
    "print('Done')"
   ]
  },
  {
   "cell_type": "code",
   "execution_count": 7,
   "metadata": {},
   "outputs": [],
   "source": [
    "def prior_to_xc(gender, allresults=False, nats=True):\n",
    "    if gender == 'M':\n",
    "        DF = mdf\n",
    "        xcnats = xcnats_m\n",
    "    elif gender == 'F':\n",
    "        DF = fdf\n",
    "        xcnats = xcnats_f\n",
    "    # PRs before a specified year\n",
    "    xcnats_dic = {}\n",
    "    for year in range(2012, 2020):\n",
    "        print(year, end='...')\n",
    "        df1 = DF.loc[((DF['Year'] <= year) & (DF['Season'] != 'Cross Country') & (DF['Distance'] > 0)) | ((DF['Year'] < year) & (DF['Season'] == 'Cross Country'))]\n",
    "        for s in ['Outdoor', 'Indoor']:\n",
    "            records = utils.get_records()[s]\n",
    "            for e, m in records.items():\n",
    "                df1 = df1.loc[(df1['Season'] != s) | (df1['Event'] != e) | ((df1['Season'] == s) & (df1['Event'] == e) & (df1['Time'] >= utils.Time(m)))]\n",
    "        df2 = xcnats.loc[xcnats['Year'] == year]\n",
    "        if allresults:\n",
    "            df3 = df1    # all results rather than just PRs\n",
    "        else:\n",
    "            df3 = df1.sort_values('Time').drop_duplicates(subset=['Athlete ID', 'Distance', 'Season'])    # Season specific PRs?\n",
    "        if nats:\n",
    "            df = df3.join(df2.set_index('Athlete ID'), on='Athlete ID', rsuffix='NATS')\n",
    "        else:\n",
    "            df = df3\n",
    "            df = df[\n",
    "                [\n",
    "                    'Name',\n",
    "                    'Athlete ID',\n",
    "                    'Academic_Year',\n",
    "                    'School', \n",
    "                    'Conference',\n",
    "                    'Meet_Name',\n",
    "                    'Year',\n",
    "                    'Season',\n",
    "                    'Place',\n",
    "                    'Time',\n",
    "                    'Distance',\n",
    "                    'YearNATS',\n",
    "                    'DistanceNATS',\n",
    "                    'PlaceNATS',\n",
    "                    'TimeNATS'\n",
    "                ]\n",
    "            ]\n",
    "            df = df.dropna(subset=['DistanceNATS'])\n",
    "        xcnats_dic[year] = df\n",
    "    print('Done')\n",
    "    return xcnats_dic"
   ]
  },
  {
   "cell_type": "code",
   "execution_count": 8,
   "metadata": {},
   "outputs": [
    {
     "name": "stdout",
     "output_type": "stream",
     "text": [
      "2012...2013...2014...2015...2016...2017...2018...2019...Done\n"
     ]
    }
   ],
   "source": [
    "resvar = False\n",
    "natsvar = True\n",
    "xcnats_dic_m = prior_to_xc('M', resvar, natsvar)"
   ]
  },
  {
   "cell_type": "code",
   "execution_count": 9,
   "metadata": {},
   "outputs": [],
   "source": [
    "if resvar:\n",
    "    assert len(mdf.loc[(mdf['Name']=='KALE ADAMS') & (mdf['Season']=='Cross Country') & (mdf['Year'] < 2019)]) == len(xcnats_dic_m[2019].loc[(xcnats_dic_m[2019]['Name']=='KALE ADAMS') & (xcnats_dic_m[2019]['Season']=='Cross Country')])"
   ]
  },
  {
   "cell_type": "code",
   "execution_count": 10,
   "metadata": {},
   "outputs": [],
   "source": [
    "for year, df in xcnats_dic_m.items():\n",
    "    champs = df.loc[(df['Meet_Name'].str.contains('Championship')) & (df['Place'] <= 3) & (((df['Year'] < year) & (df['Season'] == 'Cross Country')) | ((df['Year'] <= year) & (df['Season'] != 'Cross Country')))].groupby('Athlete ID').count()\n",
    "    champs['Championship Wins'] = champs['Name']\n",
    "    champs = champs['Championship Wins']\n",
    "    df = df.join(champs, on='Athlete ID')\n",
    "    df['Championship Wins'].fillna(0, inplace=True)\n",
    "    xcnats_dic_m[year] = df"
   ]
  },
  {
   "cell_type": "code",
   "execution_count": 11,
   "metadata": {},
   "outputs": [
    {
     "name": "stdout",
     "output_type": "stream",
     "text": [
      "Done\n"
     ]
    }
   ],
   "source": [
    "print('Done')"
   ]
  },
  {
   "cell_type": "markdown",
   "metadata": {},
   "source": [
    "# Modeling"
   ]
  },
  {
   "cell_type": "code",
   "execution_count": 12,
   "metadata": {},
   "outputs": [],
   "source": [
    "del xcnats_m\n",
    "del xcnats_f"
   ]
  },
  {
   "cell_type": "code",
   "execution_count": 13,
   "metadata": {},
   "outputs": [],
   "source": [
    "import tensorflow as tf\n",
    "import tensorflow.keras as keras\n",
    "import numpy as np\n",
    "from tensorflow.keras import Sequential\n",
    "from tensorflow.keras.layers import Dense, Dropout\n",
    "from sklearn.neighbors import KNeighborsClassifier\n",
    "from sklearn.metrics import classification_report, confusion_matrix, f1_score\n",
    "import sklearn as sk\n",
    "import matplotlib.pyplot as plt\n",
    "from sklearn.model_selection import train_test_split"
   ]
  },
  {
   "cell_type": "code",
   "execution_count": 14,
   "metadata": {},
   "outputs": [],
   "source": [
    "def get_knn_training_scores(ks, model_features, model_labels):\n",
    "    \"\"\"Determine the f1-score of k values for kNN on a given data set\n",
    "    Args:\n",
    "        ks (int iterable): iterable of all the k values to apply\n",
    "        model_features (iterable): the features from the model set to train on\n",
    "        model_labels (iterable): the labels from the model set to train on\n",
    "        \n",
    "    Returns:\n",
    "        dictionary: key is the k value and value is the weighted f1_score on the training set\n",
    "    \"\"\"\n",
    "    # YOUR CODE HERE\n",
    "    dictionary = {}\n",
    "    for k in ks:\n",
    "      knn = KNeighborsClassifier(n_neighbors=k)\n",
    "      knn.fit(model_features, model_labels)\n",
    "      validationPredictions = knn.predict(model_features)\n",
    "      f1 = f1_score(model_labels, validationPredictions, average=\"weighted\")\n",
    "      dictionary[k] = f1\n",
    "    return dictionary\n",
    "\n",
    "def get_knn_validation_scores(ks, model_features, model_labels, validation_features, validation_labels):\n",
    "    \"\"\"Train a model on a dataset then return the F-1 score on another set\n",
    "    Args:\n",
    "        ks (int iterable): iterable of all the k values to apply\n",
    "        model_features (iterable): the features from the model set to train on\n",
    "        model_labels (iterable): the labels from the model set to train on\n",
    "        validation_features (iterable): the features from the validation set to test on\n",
    "        validation_labels (iterable): the labels from the validation set to test on\n",
    "        \n",
    "    Returns:\n",
    "        dictionary: key is the k value and value is the weighted f1_score on the validation set\n",
    "    \"\"\"\n",
    "    # YOUR CODE HERE\n",
    "    dictionary = {}\n",
    "    for k in ks:\n",
    "      knn = KNeighborsClassifier(n_neighbors=k)\n",
    "      knn.fit(model_features, model_labels)\n",
    "      validationPredictions = knn.predict(validation_features)\n",
    "      f1 = f1_score(validation_labels, validationPredictions, average=\"weighted\")\n",
    "      dictionary[k] = f1\n",
    "    return dictionary"
   ]
  },
  {
   "cell_type": "code",
   "execution_count": 15,
   "metadata": {},
   "outputs": [
    {
     "name": "stderr",
     "output_type": "stream",
     "text": [
      "C:\\Users\\luke\\College\\2020_21\\Semester_7\\Machine_learning\\Project\\PlayWithData\\utils.py:261: SettingWithCopyWarning: \n",
      "A value is trying to be set on a copy of a slice from a DataFrame\n",
      "\n",
      "See the caveats in the documentation: https://pandas.pydata.org/pandas-docs/stable/user_guide/indexing.html#returning-a-view-versus-a-copy\n",
      "  df[col][df[col] == val] = dummy\n"
     ]
    }
   ],
   "source": [
    "df = pd.DataFrame()\n",
    "for y, d in xcnats_dic_m.items():\n",
    "    df = pd.concat([df, d])\n",
    "df['Time_since_PR'] = df['YearNATS']-df['Year']\n",
    "df, _ = utils.make_dummy_col(df, 'Season')\n",
    "df = df.loc[df['Distance'] > 0]"
   ]
  },
  {
   "cell_type": "code",
   "execution_count": 16,
   "metadata": {},
   "outputs": [],
   "source": [
    "allamerican = True\n",
    "target = 'PlaceNATS'\n",
    "features = ['Distance', 'Season', 'Time', 'Time_since_PR', 'Championship Wins', 'TimeAVG', 'TimeSTD']"
   ]
  },
  {
   "cell_type": "code",
   "execution_count": 17,
   "metadata": {},
   "outputs": [],
   "source": [
    "X_train, X_test, y_train, y_test = utils.get_train_test(df, target, features)"
   ]
  },
  {
   "cell_type": "code",
   "execution_count": 18,
   "metadata": {},
   "outputs": [
    {
     "data": {
      "text/plain": [
       "array([0., 0., 0., ..., 0., 0., 0.])"
      ]
     },
     "execution_count": 18,
     "metadata": {},
     "output_type": "execute_result"
    }
   ],
   "source": [
    "if allamerican:\n",
    "    y_train[y_train<=40] = 1\n",
    "    y_train[y_train>40] = 0\n",
    "    y_test[y_test<=40] = 1\n",
    "    y_test[y_test>40] = 0\n",
    "else:\n",
    "    categories = 2\n",
    "    width = 100\n",
    "    for i in range(1, categories+1):\n",
    "        y_train[(y_train<=i*width) & (y_train>(i-1)*width)] = float(i)\n",
    "    y_train[y_train>categories*width] = float(categories+1)\n",
    "    for i in range(1, categories+1):\n",
    "        y_test[(y_test<=i*width) & (y_test>(i-1)*width)] = float(i)\n",
    "    y_test[y_test>categories*width] = float(categories+1)\n",
    "y_test"
   ]
  },
  {
   "cell_type": "code",
   "execution_count": 19,
   "metadata": {},
   "outputs": [],
   "source": [
    "X_model, X_valid, y_model, y_valid = train_test_split(X_train, y_train, random_state=0, test_size=0.2)"
   ]
  },
  {
   "cell_type": "code",
   "execution_count": 20,
   "metadata": {},
   "outputs": [],
   "source": [
    "ksToTest = [1,3,5,7,10,20,50,100]\n",
    "training_scores = get_knn_training_scores(ksToTest, X_model, y_model)\n",
    "validation_scores = get_knn_validation_scores(ksToTest, X_model, y_model, X_valid, y_valid)"
   ]
  },
  {
   "cell_type": "code",
   "execution_count": 21,
   "metadata": {},
   "outputs": [
    {
     "data": {
      "image/png": "[encoded data removed]",
      "text/plain": [
       "<Figure size 432x288 with 1 Axes>"
      ]
     },
     "metadata": {
      "needs_background": "light"
     },
     "output_type": "display_data"
    }
   ],
   "source": [
    "pd.Series(training_scores, name=\"Training\").plot(kind=\"line\")\n",
    "pd.Series(validation_scores, name=\"Validation\").plot(kind=\"line\", label=\"Validation\")\n",
    "plt.legend()\n",
    "plt.xlabel(\"k\")\n",
    "plt.ylabel(\"F1-score\")\n",
    "plt.show()"
   ]
  },
  {
   "cell_type": "code",
   "execution_count": 22,
   "metadata": {},
   "outputs": [],
   "source": [
    "ksToTest = list(range(1, 26, 2))\n",
    "training_scores = get_knn_training_scores(ksToTest, X_model, y_model)\n",
    "validation_scores = get_knn_validation_scores(ksToTest, X_model, y_model, X_valid, y_valid)"
   ]
  },
  {
   "cell_type": "code",
   "execution_count": 23,
   "metadata": {},
   "outputs": [
    {
     "data": {
      "image/png": "[encoded data removed]",
      "text/plain": [
       "<Figure size 432x288 with 1 Axes>"
      ]
     },
     "metadata": {
      "needs_background": "light"
     },
     "output_type": "display_data"
    }
   ],
   "source": [
    "pd.Series(training_scores, name=\"Training\").plot(kind=\"line\")\n",
    "pd.Series(validation_scores, name=\"Validation\").plot(kind=\"line\", label=\"Validation\")\n",
    "plt.legend()\n",
    "plt.xlabel(\"k\")\n",
    "plt.ylabel(\"F1-score\")\n",
    "bestk = 7\n",
    "plt.plot([bestk, bestk], [0.77, 0.9])\n",
    "plt.show()"
   ]
  },
  {
   "cell_type": "code",
   "execution_count": 24,
   "metadata": {},
   "outputs": [
    {
     "data": {
      "text/plain": [
       "7"
      ]
     },
     "execution_count": 24,
     "metadata": {},
     "output_type": "execute_result"
    }
   ],
   "source": [
    "bestk"
   ]
  },
  {
   "cell_type": "code",
   "execution_count": 25,
   "metadata": {},
   "outputs": [],
   "source": [
    "clf = KNeighborsClassifier(bestk)\n",
    "clf.fit(X_train, y_train)\n",
    "testPredictions = clf.predict(X_test)"
   ]
  },
  {
   "cell_type": "code",
   "execution_count": 26,
   "metadata": {},
   "outputs": [
    {
     "name": "stdout",
     "output_type": "stream",
     "text": [
      "Confusion Matrix: \n",
      "\n",
      "[[2007  103]\n",
      " [ 283  151]]\n",
      "\n",
      "\n",
      "Classification Report:\n",
      "\n",
      "              precision    recall  f1-score   support\n",
      "\n",
      "         0.0       0.88      0.95      0.91      2110\n",
      "         1.0       0.59      0.35      0.44       434\n",
      "\n",
      "    accuracy                           0.85      2544\n",
      "   macro avg       0.74      0.65      0.68      2544\n",
      "weighted avg       0.83      0.85      0.83      2544\n",
      "\n",
      "\n",
      "\n",
      "F1-Score:\n",
      "\n",
      "0.8315256558565027\n"
     ]
    }
   ],
   "source": [
    "print(\"Confusion Matrix: \\n\")\n",
    "print(confusion_matrix(y_test, testPredictions))\n",
    "print(\"\\n\\nClassification Report:\\n\")\n",
    "print(classification_report(y_test, testPredictions))\n",
    "print('\\n\\nF1-Score:\\n')\n",
    "print(f1_score(y_test, testPredictions, average=\"weighted\"))"
   ]
  },
  {
   "cell_type": "code",
   "execution_count": 354,
   "metadata": {},
   "outputs": [
    {
     "name": "stderr",
     "output_type": "stream",
     "text": [
      "C:\\ProgramData\\Miniconda3\\lib\\site-packages\\ipykernel_launcher.py:3: SettingWithCopyWarning: \n",
      "A value is trying to be set on a copy of a slice from a DataFrame.\n",
      "Try using .loc[row_indexer,col_indexer] = value instead\n",
      "\n",
      "See the caveats in the documentation: https://pandas.pydata.org/pandas-docs/stable/user_guide/indexing.html#returning-a-view-versus-a-copy\n",
      "  This is separate from the ipykernel package so we can avoid doing imports until\n",
      "C:\\ProgramData\\Miniconda3\\lib\\site-packages\\ipykernel_launcher.py:4: SettingWithCopyWarning: \n",
      "A value is trying to be set on a copy of a slice from a DataFrame.\n",
      "Try using .loc[row_indexer,col_indexer] = value instead\n",
      "\n",
      "See the caveats in the documentation: https://pandas.pydata.org/pandas-docs/stable/user_guide/indexing.html#returning-a-view-versus-a-copy\n",
      "  after removing the cwd from sys.path.\n",
      "C:\\Users\\luke\\College\\2020_21\\Semester_7\\Machine_learning\\Project\\PlayWithData\\utils.py:261: SettingWithCopyWarning: \n",
      "A value is trying to be set on a copy of a slice from a DataFrame\n",
      "\n",
      "See the caveats in the documentation: https://pandas.pydata.org/pandas-docs/stable/user_guide/indexing.html#returning-a-view-versus-a-copy\n",
      "  df[col][df[col] == val] = dummy\n",
      "C:\\ProgramData\\Miniconda3\\lib\\site-packages\\pandas\\core\\generic.py:8765: SettingWithCopyWarning: \n",
      "A value is trying to be set on a copy of a slice from a DataFrame\n",
      "\n",
      "See the caveats in the documentation: https://pandas.pydata.org/pandas-docs/stable/user_guide/indexing.html#returning-a-view-versus-a-copy\n",
      "  self._update_inplace(new_data)\n"
     ]
    },
    {
     "data": {
      "text/html": [
       "<div>\n",
       "<style scoped>\n",
       "    .dataframe tbody tr th:only-of-type {\n",
       "        vertical-align: middle;\n",
       "    }\n",
       "\n",
       "    .dataframe tbody tr th {\n",
       "        vertical-align: top;\n",
       "    }\n",
       "\n",
       "    .dataframe thead th {\n",
       "        text-align: right;\n",
       "    }\n",
       "</style>\n",
       "<table border=\"1\" class=\"dataframe\">\n",
       "  <thead>\n",
       "    <tr style=\"text-align: right;\">\n",
       "      <th></th>\n",
       "      <th>Distance</th>\n",
       "      <th>Season</th>\n",
       "      <th>Time</th>\n",
       "      <th>Time_since_PR</th>\n",
       "      <th>Championship Wins</th>\n",
       "      <th>TimeAVG</th>\n",
       "      <th>TimeSTD</th>\n",
       "    </tr>\n",
       "  </thead>\n",
       "  <tbody>\n",
       "    <tr>\n",
       "      <th>10198</th>\n",
       "      <td>1500.0000</td>\n",
       "      <td>2</td>\n",
       "      <td>233.19</td>\n",
       "      <td>1</td>\n",
       "      <td>9.0</td>\n",
       "      <td>237.402000</td>\n",
       "      <td>3.521267</td>\n",
       "    </tr>\n",
       "    <tr>\n",
       "      <th>10203</th>\n",
       "      <td>1609.3400</td>\n",
       "      <td>1</td>\n",
       "      <td>275.40</td>\n",
       "      <td>2</td>\n",
       "      <td>9.0</td>\n",
       "      <td>275.400000</td>\n",
       "      <td>0.000000</td>\n",
       "    </tr>\n",
       "    <tr>\n",
       "      <th>10157</th>\n",
       "      <td>3000.0000</td>\n",
       "      <td>1</td>\n",
       "      <td>486.92</td>\n",
       "      <td>0</td>\n",
       "      <td>9.0</td>\n",
       "      <td>515.908333</td>\n",
       "      <td>18.657727</td>\n",
       "    </tr>\n",
       "    <tr>\n",
       "      <th>10193</th>\n",
       "      <td>3000.0000</td>\n",
       "      <td>2</td>\n",
       "      <td>536.83</td>\n",
       "      <td>1</td>\n",
       "      <td>9.0</td>\n",
       "      <td>551.491667</td>\n",
       "      <td>13.368378</td>\n",
       "    </tr>\n",
       "    <tr>\n",
       "      <th>10185</th>\n",
       "      <td>5000.0000</td>\n",
       "      <td>2</td>\n",
       "      <td>838.64</td>\n",
       "      <td>1</td>\n",
       "      <td>9.0</td>\n",
       "      <td>884.725714</td>\n",
       "      <td>33.597973</td>\n",
       "    </tr>\n",
       "    <tr>\n",
       "      <th>10183</th>\n",
       "      <td>5000.0000</td>\n",
       "      <td>0</td>\n",
       "      <td>909.20</td>\n",
       "      <td>3</td>\n",
       "      <td>9.0</td>\n",
       "      <td>917.700000</td>\n",
       "      <td>12.020815</td>\n",
       "    </tr>\n",
       "    <tr>\n",
       "      <th>10144</th>\n",
       "      <td>8000.0000</td>\n",
       "      <td>0</td>\n",
       "      <td>1410.00</td>\n",
       "      <td>1</td>\n",
       "      <td>9.0</td>\n",
       "      <td>1564.691667</td>\n",
       "      <td>176.620479</td>\n",
       "    </tr>\n",
       "    <tr>\n",
       "      <th>10202</th>\n",
       "      <td>7998.4198</td>\n",
       "      <td>0</td>\n",
       "      <td>1502.50</td>\n",
       "      <td>2</td>\n",
       "      <td>9.0</td>\n",
       "      <td>1502.500000</td>\n",
       "      <td>0.000000</td>\n",
       "    </tr>\n",
       "    <tr>\n",
       "      <th>10178</th>\n",
       "      <td>10000.0000</td>\n",
       "      <td>0</td>\n",
       "      <td>1787.60</td>\n",
       "      <td>1</td>\n",
       "      <td>9.0</td>\n",
       "      <td>1848.650000</td>\n",
       "      <td>46.563684</td>\n",
       "    </tr>\n",
       "  </tbody>\n",
       "</table>\n",
       "</div>"
      ],
      "text/plain": [
       "         Distance  Season     Time  Time_since_PR  Championship Wins  \\\n",
       "10198   1500.0000       2   233.19              1                9.0   \n",
       "10203   1609.3400       1   275.40              2                9.0   \n",
       "10157   3000.0000       1   486.92              0                9.0   \n",
       "10193   3000.0000       2   536.83              1                9.0   \n",
       "10185   5000.0000       2   838.64              1                9.0   \n",
       "10183   5000.0000       0   909.20              3                9.0   \n",
       "10144   8000.0000       0  1410.00              1                9.0   \n",
       "10202   7998.4198       0  1502.50              2                9.0   \n",
       "10178  10000.0000       0  1787.60              1                9.0   \n",
       "\n",
       "           TimeAVG     TimeSTD  \n",
       "10198   237.402000    3.521267  \n",
       "10203   275.400000    0.000000  \n",
       "10157   515.908333   18.657727  \n",
       "10193   551.491667   13.368378  \n",
       "10185   884.725714   33.597973  \n",
       "10183   917.700000   12.020815  \n",
       "10144  1564.691667  176.620479  \n",
       "10202  1502.500000    0.000000  \n",
       "10178  1848.650000   46.563684  "
      ]
     },
     "execution_count": 354,
     "metadata": {},
     "output_type": "execute_result"
    }
   ],
   "source": [
    "name = 'TAYLOR STACK'\n",
    "subject = mdf.loc[(mdf['Name']==name) & (mdf['Distance'] > 0)]   # (mdf['Name']==''), for kyle (mdf['Athlete ID']==7109122)\n",
    "subject['Time_since_PR'] = 2020-subject['Year']\n",
    "subject['Championship Wins'] = [9.] * len(subject)\n",
    "data, _ = utils.make_dummy_col(subject, 'Season')\n",
    "data = subject.sort_values('Time').drop_duplicates('Event')\n",
    "data = data[features].fillna(.0)\n",
    "data"
   ]
  },
  {
   "cell_type": "code",
   "execution_count": 355,
   "metadata": {},
   "outputs": [
    {
     "data": {
      "text/plain": [
       "array([0., 0., 1., 0., 1., 0., 1., 1., 1.])"
      ]
     },
     "execution_count": 355,
     "metadata": {},
     "output_type": "execute_result"
    }
   ],
   "source": [
    "pred = clf.predict(data.to_numpy())\n",
    "pred"
   ]
  },
  {
   "cell_type": "code",
   "execution_count": 356,
   "metadata": {},
   "outputs": [],
   "source": [
    "data['Prediction'] = [p for p in pred]\n",
    "data['All-American?'] = ['Yes' if p==1. else 'No' for p in pred]"
   ]
  },
  {
   "cell_type": "code",
   "execution_count": 357,
   "metadata": {},
   "outputs": [
    {
     "data": {
      "text/html": [
       "<div>\n",
       "<style scoped>\n",
       "    .dataframe tbody tr th:only-of-type {\n",
       "        vertical-align: middle;\n",
       "    }\n",
       "\n",
       "    .dataframe tbody tr th {\n",
       "        vertical-align: top;\n",
       "    }\n",
       "\n",
       "    .dataframe thead th {\n",
       "        text-align: right;\n",
       "    }\n",
       "</style>\n",
       "<table border=\"1\" class=\"dataframe\">\n",
       "  <thead>\n",
       "    <tr style=\"text-align: right;\">\n",
       "      <th></th>\n",
       "      <th>Distance</th>\n",
       "      <th>Season</th>\n",
       "      <th>Time</th>\n",
       "      <th>Time_since_PR</th>\n",
       "      <th>Championship Wins</th>\n",
       "      <th>TimeAVG</th>\n",
       "      <th>TimeSTD</th>\n",
       "      <th>Prediction</th>\n",
       "      <th>All-American?</th>\n",
       "    </tr>\n",
       "  </thead>\n",
       "  <tbody>\n",
       "    <tr>\n",
       "      <th>10198</th>\n",
       "      <td>1500.0000</td>\n",
       "      <td>2</td>\n",
       "      <td>233.19</td>\n",
       "      <td>1</td>\n",
       "      <td>9.0</td>\n",
       "      <td>237.402000</td>\n",
       "      <td>3.521267</td>\n",
       "      <td>0.0</td>\n",
       "      <td>No</td>\n",
       "    </tr>\n",
       "    <tr>\n",
       "      <th>10203</th>\n",
       "      <td>1609.3400</td>\n",
       "      <td>1</td>\n",
       "      <td>275.40</td>\n",
       "      <td>2</td>\n",
       "      <td>9.0</td>\n",
       "      <td>275.400000</td>\n",
       "      <td>0.000000</td>\n",
       "      <td>0.0</td>\n",
       "      <td>No</td>\n",
       "    </tr>\n",
       "    <tr>\n",
       "      <th>10157</th>\n",
       "      <td>3000.0000</td>\n",
       "      <td>1</td>\n",
       "      <td>486.92</td>\n",
       "      <td>0</td>\n",
       "      <td>9.0</td>\n",
       "      <td>515.908333</td>\n",
       "      <td>18.657727</td>\n",
       "      <td>1.0</td>\n",
       "      <td>Yes</td>\n",
       "    </tr>\n",
       "    <tr>\n",
       "      <th>10193</th>\n",
       "      <td>3000.0000</td>\n",
       "      <td>2</td>\n",
       "      <td>536.83</td>\n",
       "      <td>1</td>\n",
       "      <td>9.0</td>\n",
       "      <td>551.491667</td>\n",
       "      <td>13.368378</td>\n",
       "      <td>0.0</td>\n",
       "      <td>No</td>\n",
       "    </tr>\n",
       "    <tr>\n",
       "      <th>10185</th>\n",
       "      <td>5000.0000</td>\n",
       "      <td>2</td>\n",
       "      <td>838.64</td>\n",
       "      <td>1</td>\n",
       "      <td>9.0</td>\n",
       "      <td>884.725714</td>\n",
       "      <td>33.597973</td>\n",
       "      <td>1.0</td>\n",
       "      <td>Yes</td>\n",
       "    </tr>\n",
       "    <tr>\n",
       "      <th>10183</th>\n",
       "      <td>5000.0000</td>\n",
       "      <td>0</td>\n",
       "      <td>909.20</td>\n",
       "      <td>3</td>\n",
       "      <td>9.0</td>\n",
       "      <td>917.700000</td>\n",
       "      <td>12.020815</td>\n",
       "      <td>0.0</td>\n",
       "      <td>No</td>\n",
       "    </tr>\n",
       "    <tr>\n",
       "      <th>10144</th>\n",
       "      <td>8000.0000</td>\n",
       "      <td>0</td>\n",
       "      <td>1410.00</td>\n",
       "      <td>1</td>\n",
       "      <td>9.0</td>\n",
       "      <td>1564.691667</td>\n",
       "      <td>176.620479</td>\n",
       "      <td>1.0</td>\n",
       "      <td>Yes</td>\n",
       "    </tr>\n",
       "    <tr>\n",
       "      <th>10202</th>\n",
       "      <td>7998.4198</td>\n",
       "      <td>0</td>\n",
       "      <td>1502.50</td>\n",
       "      <td>2</td>\n",
       "      <td>9.0</td>\n",
       "      <td>1502.500000</td>\n",
       "      <td>0.000000</td>\n",
       "      <td>1.0</td>\n",
       "      <td>Yes</td>\n",
       "    </tr>\n",
       "    <tr>\n",
       "      <th>10178</th>\n",
       "      <td>10000.0000</td>\n",
       "      <td>0</td>\n",
       "      <td>1787.60</td>\n",
       "      <td>1</td>\n",
       "      <td>9.0</td>\n",
       "      <td>1848.650000</td>\n",
       "      <td>46.563684</td>\n",
       "      <td>1.0</td>\n",
       "      <td>Yes</td>\n",
       "    </tr>\n",
       "  </tbody>\n",
       "</table>\n",
       "</div>"
      ],
      "text/plain": [
       "         Distance  Season     Time  Time_since_PR  Championship Wins  \\\n",
       "10198   1500.0000       2   233.19              1                9.0   \n",
       "10203   1609.3400       1   275.40              2                9.0   \n",
       "10157   3000.0000       1   486.92              0                9.0   \n",
       "10193   3000.0000       2   536.83              1                9.0   \n",
       "10185   5000.0000       2   838.64              1                9.0   \n",
       "10183   5000.0000       0   909.20              3                9.0   \n",
       "10144   8000.0000       0  1410.00              1                9.0   \n",
       "10202   7998.4198       0  1502.50              2                9.0   \n",
       "10178  10000.0000       0  1787.60              1                9.0   \n",
       "\n",
       "           TimeAVG     TimeSTD  Prediction All-American?  \n",
       "10198   237.402000    3.521267         0.0            No  \n",
       "10203   275.400000    0.000000         0.0            No  \n",
       "10157   515.908333   18.657727         1.0           Yes  \n",
       "10193   551.491667   13.368378         0.0            No  \n",
       "10185   884.725714   33.597973         1.0           Yes  \n",
       "10183   917.700000   12.020815         0.0            No  \n",
       "10144  1564.691667  176.620479         1.0           Yes  \n",
       "10202  1502.500000    0.000000         1.0           Yes  \n",
       "10178  1848.650000   46.563684         1.0           Yes  "
      ]
     },
     "execution_count": 357,
     "metadata": {},
     "output_type": "execute_result"
    }
   ],
   "source": [
    "data"
   ]
  },
  {
   "cell_type": "code",
   "execution_count": 358,
   "metadata": {},
   "outputs": [
    {
     "data": {
      "text/plain": [
       "{3001.0: 0.21311475409836064,\n",
       " 8000.0: 0.21311475409836064,\n",
       " 5001.0: 0.14754098360655737,\n",
       " 5002.0: 0.11475409836065574,\n",
       " 3002.0: 0.09836065573770492,\n",
       " 1502.0: 0.08196721311475409,\n",
       " 10000.0: 0.06557377049180328,\n",
       " 5000.0: 0.03278688524590164,\n",
       " 1610.34: 0.01639344262295082,\n",
       " 7998.419799999999: 0.01639344262295082}"
      ]
     },
     "execution_count": 358,
     "metadata": {},
     "output_type": "execute_result"
    }
   ],
   "source": [
    "counts = subject['Distance'] + subject['Season']    # distinguish seasons\n",
    "counts = (counts.value_counts() / len(subject)).to_dict()\n",
    "counts"
   ]
  },
  {
   "cell_type": "code",
   "execution_count": 359,
   "metadata": {},
   "outputs": [],
   "source": [
    "data = data[['Distance', 'Season', 'Prediction']].to_numpy()"
   ]
  },
  {
   "cell_type": "code",
   "execution_count": 360,
   "metadata": {},
   "outputs": [
    {
     "name": "stdout",
     "output_type": "stream",
     "text": [
      "[1500.    2.    0.] 0.08196721311475409\n",
      "[1.60934e+03 1.00000e+00 0.00000e+00] 0.01639344262295082\n",
      "[3.e+03 1.e+00 1.e+00] 0.21311475409836064\n",
      "[3.e+03 2.e+00 0.e+00] 0.09836065573770492\n",
      "[5.e+03 2.e+00 1.e+00] 0.11475409836065574\n",
      "[5000.    0.    0.] 0.03278688524590164\n",
      "[8.e+03 0.e+00 1.e+00] 0.21311475409836064\n",
      "[7.9984198e+03 0.0000000e+00 1.0000000e+00] 0.01639344262295082\n",
      "[1.e+04 0.e+00 1.e+00] 0.06557377049180328\n"
     ]
    },
    {
     "data": {
      "text/plain": [
       "0.6229508196721311"
      ]
     },
     "execution_count": 360,
     "metadata": {},
     "output_type": "execute_result"
    }
   ],
   "source": [
    "weights = []\n",
    "#for k, v in mycounts.items():\n",
    "for row in data:\n",
    "    print(row, counts[row[0]+row[1]])\n",
    "    weights.append(row[2]*counts[row[0]+row[1]])    # *(row[0]/5000)**0.5\n",
    "sum(weights)"
   ]
  },
  {
   "cell_type": "markdown",
   "metadata": {},
   "source": [
    "## Mines\n",
    "- Dylan Ko: 0.5416666666666667\n",
    "- Luke Julian: 0.6666666666666666\n",
    "- Kyle Moran: 0.6470588235294118\n",
    "- Luc Hagen: 0.4857142857142857\n",
    "- Jake Mitchem: 0.25\n",
    "- Max Sevcik: 0.3888888888888889\n",
    "- Chris Cathcart: 0.2222222222222222\n",
    "- Bo Raadam: 0.5714285714285714\n",
    "\n",
    "## Western\n",
    "- Taylor Stack: 0.6229508196721311\n",
    "- Charlie Sweeney: 0.6842105263157894<\n",
    "\n",
    "## Adams\n",
    "- Carson Bix: 0.875\n",
    "- Isaiah Rodarte: 0.7272727272727273\n",
    "\n",
    "## Grand Valley\n",
    "###### (only xc results)\n",
    "- Tanner Chada: 0.7272727272727273\n",
    "- Enael Woldemicheal: 0.8\n",
    "\n",
    "<br><br>\n",
    "This may be skewed toward the longer distances and event specialists.  Kyle and Dylan probably would be higher if covid hadn't ended track before they could improve their resumes further.  I don't know how Stack is so low, it might be because he's run a lot of 3ks but all at altitude.  Looks like you need to run well in your most common event.  If Stack ran 5000s as much as he runs 3000s (inflated by steeple), he'd score high.\n",
    "\n",
    "*MAKE SURE ALL DUMMIES ARE THE SAME. THIS MAY BE CAUSING PROBLEMS WHEN get_dummies IS CALLED MORE THAN ONCE*"
   ]
  },
  {
   "cell_type": "code",
   "execution_count": null,
   "metadata": {},
   "outputs": [],
   "source": []
  }
 ],
 "metadata": {
  "kernelspec": {
   "display_name": "Python 3",
   "language": "python",
   "name": "python3"
  },
  "language_info": {
   "codemirror_mode": {
    "name": "ipython",
    "version": 3
   },
   "file_extension": ".py",
   "mimetype": "text/x-python",
   "name": "python",
   "nbconvert_exporter": "python",
   "pygments_lexer": "ipython3",
   "version": "3.7.7"
  }
 },
 "nbformat": 4,
 "nbformat_minor": 4
}
